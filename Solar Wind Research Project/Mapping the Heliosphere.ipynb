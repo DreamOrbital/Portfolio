{
 "cells": [
  {
   "cell_type": "markdown",
   "id": "2c7899a6-1453-4281-9d84-e62d1a661ace",
   "metadata": {},
   "source": [
    "#  Analysing the solar wind\n",
    "\n",
    "This is the code from my research project as part of my BSc in Physics. The project is about how the solar wind varies radially outwards from the Sun. \n",
    "\n",
    "## Problem\n",
    "How does the solar wind's velocity, density, temperature and magnetic field vary radially outwards from the Sun? \n",
    "\n",
    "## Data Collection\n",
    "I have obtained data from 6 satellites from a web server via the speasy module. The data is from solar minima and is stored in pandas dataframes. \n",
    "\n",
    "## Data Cleaning\n",
    "Data cleaning and data transformation are performed on the data from each satellite separately. Missing values are interpolated and for some of the satellites the units needed to be converted. The magnetic field coordinates needed to be transformed. The data was then combined.\n",
    "\n",
    "## Data analysis\n",
    "A k-nearest neighbours (kNN) regression was applied to the data for each parameter. This is a machine learning algorithm which averages the k closest distance values for each parameter value. "
   ]
  },
  {
   "cell_type": "markdown",
   "id": "35597056",
   "metadata": {},
   "source": [
    "Speasy code to obtain and plot data from the last solar minimum from ACE"
   ]
  },
  {
   "cell_type": "markdown",
   "id": "d51571c2-8cee-45f2-8b7b-fb1e8a205c80",
   "metadata": {
    "jp-MarkdownHeadingCollapsed": true
   },
   "source": [
    "## Importing modules and defining amda_tree"
   ]
  },
  {
   "cell_type": "code",
   "execution_count": null,
   "id": "f6bc5845",
   "metadata": {},
   "outputs": [],
   "source": [
    "#Import necessary modules\n",
    "import time\n",
    "import datetime as dt\n",
    "\n",
    "%matplotlib inline\n",
    "import matplotlib.pyplot as plt\n",
    "import matplotlib.style as mplstyle\n",
    "mplstyle.use('fast')\n",
    "import numpy as np\n",
    "import pandas as pd\n",
    "import speasy as spz\n",
    "import sklearn\n",
    "with sklearn.config_context(assume_finite=True):\n",
    "    pass\n",
    "import sklearn.metrics as metrics\n",
    "from sklearn.model_selection import train_test_split\n",
    "from sklearn import neighbors\n",
    "from scipy.integrate import solve_ivp\n",
    "from scipy.spatial.transform import Rotation\n",
    "import scipy.interpolate as interpolate\n",
    "import astropy.constants as ac"
   ]
  },
  {
   "cell_type": "code",
   "execution_count": null,
   "id": "9e9df635-da98-46d8-96ee-271d43fdc10a",
   "metadata": {},
   "outputs": [],
   "source": [
    "!jupyter --version"
   ]
  },
  {
   "cell_type": "code",
   "execution_count": null,
   "id": "db4d8ec6",
   "metadata": {},
   "outputs": [],
   "source": [
    "#Get amda_tree and sscweb_tree\n",
    "amda_tree = spz.inventories.tree.amda\n",
    "sscweb_tree = spz.inventories.tree.amda"
   ]
  },
  {
   "cell_type": "markdown",
   "id": "7c21bf9d-5158-4e97-ac0f-9fb301f3c91e",
   "metadata": {},
   "source": [
    "Theoretical functions"
   ]
  },
  {
   "cell_type": "code",
   "execution_count": null,
   "id": "bcc270f7",
   "metadata": {},
   "outputs": [],
   "source": [
    "def theoretical_density(r):\n",
    "    return 1.305 * r** (-2.11) * (0.0038 * 1.5 + 4.5)"
   ]
  },
  {
   "cell_type": "code",
   "execution_count": null,
   "id": "20d26a39-1e50-42db-8fcc-ae50aec3994a",
   "metadata": {},
   "outputs": [],
   "source": [
    "def theoretical_velocity(r):\n",
    "    v_slow = 1.0101 * (3.63 * r ** 0.099)\n",
    "    v_fast = 1.023 * (483 * r ** 0.099)\n",
    "    return (v_slow + v_fast)/2"
   ]
  },
  {
   "cell_type": "code",
   "execution_count": null,
   "id": "98d2df43-5c8e-44b9-804b-7ffdadadd582",
   "metadata": {},
   "outputs": [],
   "source": [
    "def theoretical_temperature(r):\n",
    "    return 1.654*r**(-1.10)*(197*1.5+57300)"
   ]
  },
  {
   "cell_type": "markdown",
   "id": "cb25a413-6c9e-46cc-a657-d5fc6c71a018",
   "metadata": {},
   "source": [
    "# Get Satellite Data"
   ]
  },
  {
   "cell_type": "markdown",
   "id": "a4755e2c-93b1-422f-932a-ca3a6684b833",
   "metadata": {
    "jp-MarkdownHeadingCollapsed": true
   },
   "source": [
    "## Coordinate transformations"
   ]
  },
  {
   "cell_type": "code",
   "execution_count": null,
   "id": "e5d9e3d1-db68-4687-8c1a-fc2877bb1580",
   "metadata": {},
   "outputs": [],
   "source": [
    "# Formula from (Hapgood M, 1992)\n",
    "MJD = 2400000.5\n",
    "T0 = (MJD - 51544.5)/36525\n",
    "M = 357.528 + 35999.05 * T0 + 0.04107 # Sun mean anomaly\n",
    "sun_mean_longitude = 280.46+36000.772*T0 +0.04107\n",
    "sun_ecliptic_longitude = sun_mean_longitude+(1.915-0.0048*T0)*np.sin(M)+0.02*np.sin(2*M)"
   ]
  },
  {
   "cell_type": "markdown",
   "id": "cfc5f9f6-b8e0-4a31-b73a-d0ed8f614e77",
   "metadata": {},
   "source": [
    "### GSE to HAE Transformation"
   ]
  },
  {
   "cell_type": "code",
   "execution_count": null,
   "id": "c764541b-1c10-445c-b4e6-e6d0399579af",
   "metadata": {},
   "outputs": [],
   "source": [
    "# Rotation matrix for transforming GSE to HEE coordinates.\n",
    "r_hee = Rotation.from_matrix([\n",
    "    [-1, 0, 0],\n",
    "    [0, -1, 0],\n",
    "    [0, 0, 1]])"
   ]
  },
  {
   "cell_type": "code",
   "execution_count": null,
   "id": "7bddc3bd-0d39-4d8a-8824-072513758e50",
   "metadata": {},
   "outputs": [],
   "source": [
    "# Rotation matrix for transforming HEE to HAE coordinates.\n",
    "r_hae_from_hee = Rotation.from_matrix([\n",
    "    [np.cos(-sun_ecliptic_longitude-np.pi), -np.sin(-sun_ecliptic_longitude-np.pi), 0],\n",
    "    [np.sin(-sun_ecliptic_longitude-np.pi), np.cos(-sun_ecliptic_longitude-np.pi), 0],\n",
    "    [0, 0, 1]])"
   ]
  },
  {
   "cell_type": "code",
   "execution_count": null,
   "id": "e8d8f00b-0f01-41d4-93fd-273504d9c04a",
   "metadata": {},
   "outputs": [],
   "source": [
    "# Transforms GSE coordinates into HAE coordinates\n",
    "def gse_coordinate_conversion(gse_comp):\n",
    "    gse = list(gse_comp.values)\n",
    "    hae_list = []\n",
    "    r_list = []\n",
    "    theta_list = []\n",
    "    phi_list = []\n",
    "    # The magnetic field components are converted into HAE coordinates.\n",
    "    for row in zip(gse):\n",
    "        hee = r_hee.apply(row)\n",
    "        hae = r_hae_from_hee.apply(hee)\n",
    "        hae_list.append(hae)\n",
    "    hae_list = [hae for hae_sublist in hae_list for hae in hae_sublist]\n",
    "    return hae_list"
   ]
  },
  {
   "cell_type": "markdown",
   "id": "7dcd8301-8842-4674-bd00-2249c30082fa",
   "metadata": {},
   "source": [
    "### RTN to HAE Transformation"
   ]
  },
  {
   "cell_type": "code",
   "execution_count": null,
   "id": "3909f06f-8046-49db-a1d3-e5b0c7d501e9",
   "metadata": {},
   "outputs": [],
   "source": [
    "start_date_ = dt.datetime(1996, 2, 1, 0, 0, 0)\n",
    "end_date_1 = dt.datetime(1997, 3, 1, 0, 0, 0)\n",
    "ulysses_hae_1996 = spz.amda.get_data(\"xyz_ulys_hae\", start_date_1, end_date_1).to_dataframe()\n",
    "start_date_2 = dt.datetime(2007, 3, 1, 0, 0, 0)\n",
    "end_date_2 = dt.datetime(2008, 3, 1, 0, 0, 0)\n",
    "ulysses_hae_2007 = spz.amda.get_data(\"xyz_ulys_hae\", start_date_2, end_date_2).to_dataframe()\n",
    "start_date_3 = dt.datetime(2008, 3, 1, 0, 0, 0)\n",
    "end_date_3 = dt.datetime(2009, 3, 1, 0, 0, 0)\n",
    "ulysses_hae_2008 = spz.amda.get_data(\"xyz_ulys_hae\", start_date_3, end_date_3).to_dataframe()\n",
    "start_date_4 = dt.datetime(2009, 3, 1, 0, 0, 0)\n",
    "end_date_4 = dt.datetime(2009, 9, 1, 0, 0, 0)\n",
    "ulysses_hae_2009 = spz.amda.get_data(\"xyz_ulys_hae\", start_date_4, end_date_4).to_dataframe()"
   ]
  },
  {
   "cell_type": "code",
   "execution_count": null,
   "id": "ccf3e4fa-54de-4d61-a530-bc1a764f0871",
   "metadata": {},
   "outputs": [],
   "source": [
    "ulysses_hae = pd.concat([ulysses_hae_1996, ulysses_hae_2007, ulysses_hae_2008, ulysses_hae_2009])\n",
    "ulysses_hae_comp = ulysses_hae[[\"xyz_ulys_hae[0]\", \"xyz_ulys_hae[1]\", \"xyz_ulys_hae[2]\"]]"
   ]
  },
  {
   "cell_type": "code",
   "execution_count": null,
   "id": "421d3f96-32b6-4f0a-9554-ad931ea3f386",
   "metadata": {},
   "outputs": [],
   "source": [
    "# Rotation matrix for transformation from HAE to HCD coordinates.\n",
    "omega = 75.6*np.pi/180+1.367*np.pi/180*T0\n",
    "r_hcd_from_hae = Rotation.from_matrix(np.matmul(np.matmul([\n",
    "    [np.cos(omega), -np.sin(omega), 0],\n",
    "    [np.sin(omega), np.cos(omega), 0],\n",
    "    [0, 0, 1]], [\n",
    "    [1, 0, 0],\n",
    "    [0, np.cos(75.6*np.pi/180), -np.sin(75.6*np.pi/180)],\n",
    "    [0, np.sin(75.6*np.pi/180), np.cos(75.6*np.pi/180)]]), [\n",
    "    [np.cos(0), -np.sin(0), 0],\n",
    "    [np.sin(0), np.cos(0), 0],\n",
    "    [0, 0, 1]]))"
   ]
  },
  {
   "cell_type": "code",
   "execution_count": null,
   "id": "5b47dec6-d2f5-47c5-848b-b638de392991",
   "metadata": {},
   "outputs": [],
   "source": [
    "def hae_hcd_coordinate_conversion(hae_comp):\n",
    "    hae = list(hae_comp.values)\n",
    "    hcd_list = []\n",
    "    r_list = []\n",
    "    theta_list = []\n",
    "    phi_list = []\n",
    "    for row in zip(hae):\n",
    "        hcd = r_hcd_from_hae.apply(row)\n",
    "        hcd_list.append(hcd)\n",
    "    return hcd_list"
   ]
  },
  {
   "cell_type": "code",
   "execution_count": null,
   "id": "50db67b9-4383-4fbf-927b-958e7b7c6c44",
   "metadata": {},
   "outputs": [],
   "source": [
    "# Rotation matrix for transforming HGRTN to HCD coordinates.\n",
    "# E = <psi, Z>*<theta,X>*<omega,Z>\n",
    "# E(-psi+90, -theta, -90)\n",
    "r_hcd = Rotation.from_matrix([\n",
    "    np.matmul(np.matmul([\n",
    "        [np.cos(-psi-np.pi/2), -np.sin(-psi-np.pi/2), 0],\n",
    "        [np.sin(-psi-np.pi/2), np.cos(-psi-np.pi/2), 0],\n",
    "        [0, 0, 1]], [\n",
    "        [1, 0, 0],\n",
    "        [0, np.cos(-theta), -np.sin(-theta)],\n",
    "        [0, np.sin(-theta), np.cos(-theta)]]), [\n",
    "        [np.cos(-np.pi/2), -np.sin(-np.pi/2), 0],\n",
    "        [np.sin(-np.pi/2), np.cos(-np.pi/2), 0],\n",
    "        [0, 0, 1]])])"
   ]
  },
  {
   "cell_type": "code",
   "execution_count": null,
   "id": "d7d1a83b-a540-484f-85da-9c3040e693bc",
   "metadata": {},
   "outputs": [],
   "source": [
    "# Rotation matrix for transformation from HCD to HAE coordinates.\n",
    "omega = 75.6*np.pi/180+1.367*np.pi/180*T0\n",
    "r_hae_from_hcd = Rotation.from_matrix(np.matmul(np.matmul([\n",
    "    [np.cos(-omega), -np.sin(-omega), 0],\n",
    "    [np.sin(-omega), np.cos(-omega), 0],\n",
    "    [0, 0, 1]], [\n",
    "    [1, 0, 0],\n",
    "    [0, np.cos(-75.6*np.pi/180), -np.sin(-75.6*np.pi/180)],\n",
    "    [0, np.sin(-75.6*np.pi/180), np.cos(-75.6*np.pi/180)]]), [\n",
    "    [np.cos(0), -np.sin(0), 0],\n",
    "    [np.sin(0), np.cos(0), 0)],\n",
    "    [0, 0, 1]]))"
   ]
  },
  {
   "cell_type": "code",
   "execution_count": null,
   "id": "2caa0a81-0b4b-41cf-af17-585f8c16e2f3",
   "metadata": {},
   "outputs": [],
   "source": [
    "# Transform HCRTN into heliocentric polar coordinates.\n",
    "def rtn_coordinate_conversion(rtn_comp):\n",
    "    rtn = list(rtn_comp.values)\n",
    "    hae_list = []\n",
    "    r_list = []\n",
    "    theta_list = []\n",
    "    phi_list = []\n",
    "    for row in zip(rtn):\n",
    "        hcd = r_hcd.apply(rtn)\n",
    "        hae = r_hae_from_hcd.apply(hcd)\n",
    "        hae_list.append(hae)\n",
    "    return hae_list"
   ]
  },
  {
   "cell_type": "code",
   "execution_count": null,
   "id": "13f273cc-4f01-4f5b-8204-8b861764f767",
   "metadata": {},
   "outputs": [],
   "source": [
    "# The magnetic field HAE coordinates are converted into spherical polar coordinates.\n",
    "def polar_coordinate_conversion(comp, coords, hae_list):\n",
    "    if coords == \"gse\":\n",
    "        gse_coordinate_conversion(comp)\n",
    "    if coords == \"rtn\":\n",
    "        rtn_coordinate_conversion(comp)\n",
    "    for i in hae_list:\n",
    "        h = [x for xs in i for x in xs]\n",
    "        r = np.sqrt(h[0]**2+h[1]**2+h[2]**2)\n",
    "        r_list.append(r)\n",
    "        theta_list.append(np.arccos(h[2]/(r)))\n",
    "        phi_list.append(np.sign(h[1])*np.arccos(h[0]/(np.sqrt(h[0]**2+h[1]**2))))\n",
    "    return [r_list, theta_list, phi_list]"
   ]
  },
  {
   "cell_type": "markdown",
   "id": "0eb1c564",
   "metadata": {
    "jp-MarkdownHeadingCollapsed": true
   },
   "source": [
    "## ACE"
   ]
  },
  {
   "cell_type": "markdown",
   "id": "83c9abed",
   "metadata": {},
   "source": [
    "Attempting to get the magntiude of the magnetic field from ACE using AMDA"
   ]
  },
  {
   "cell_type": "code",
   "execution_count": null,
   "id": "89fc3789-4bed-496c-89fe-534e2e8398e0",
   "metadata": {},
   "outputs": [],
   "source": [
    "start_date = dt.datetime(2018, 6, 1, 0, 0)\n",
    "end_date = dt.datetime(2020, 7, 1, 0, 0)"
   ]
  },
  {
   "cell_type": "code",
   "execution_count": null,
   "id": "0615f29c",
   "metadata": {},
   "outputs": [],
   "source": [
    "# Get data for the whole period during the solar minimum.\n",
    "ace_dist_sun = spz.get_data(amda_tree.Parameters.ACE.Ephemeris.ace_orb_all.ace_r_sun, start_date, end_date)\n",
    "ace_dist_sun = ace_dist_sun.to_dataframe()\n",
    "ace_density = spz.get_data(amda_tree.Parameters.ACE.SWEPAM.ace_swe_all.sw_n, start_date, end_date)\n",
    "ace_density = ace_density.to_dataframe()\n",
    "ace_velocity = spz.amda.get_data(\"sw_v_gsm\", start_date, end_date)\n",
    "ace_velocity = ace_velocity.to_dataframe()\n",
    "ace_temperature = spz.get_data(amda_tree.Parameters.ACE.SWEPAM.ace_swe_all.sw_t, start_date, end_date)\n",
    "ace_temperature = ace_temperature.to_dataframe()\n",
    "ace_mag_field = spz.get_data(amda_tree.Parameters.ACE.MFI.ace_imf_all.imf, start_date, end_date)\n",
    "ace_mag_field = ace_mag_field.to_dataframe()"
   ]
  },
  {
   "cell_type": "code",
   "execution_count": null,
   "id": "51aa1267-29f9-40aa-8531-0420f9b97ca0",
   "metadata": {},
   "outputs": [],
   "source": [
    "ace_dist_sun.to_csv(\"ace_distance.csv\")\n",
    "ace_density.to_csv(\"ace_density.csv\")\n",
    "ace_velocity.to_csv(\"ace_velocity.csv\")\n",
    "ace_temperature.to_csv(\"ace_temperature.csv\")\n",
    "ace_mag_field.to_csv(\"ace_mag_field\")"
   ]
  },
  {
   "cell_type": "code",
   "execution_count": null,
   "id": "e6332af3-e3a1-4180-8c3c-127bf26c5e6b",
   "metadata": {},
   "outputs": [],
   "source": [
    "ace_dist_sun = pd.read_csv(\"ace_distance.csv\")\n",
    "ace_density = pd.read_csv(\"ace_density.csv\")\n",
    "ace_velocity = pd.read_csv(\"ace_velocity.csv\")\n",
    "ace_temperature = pd.read_csv(\"ace_temperature.csv\")\n",
    "ace_mag_field = pd.read_csv(\"ace_mag_field\")"
   ]
  },
  {
   "cell_type": "code",
   "execution_count": null,
   "id": "bc92cd23-724f-43ba-ae94-107af2bc9f51",
   "metadata": {},
   "outputs": [],
   "source": [
    "ace_dist_sun.reset_index(inplace=True)\n",
    "ace_density.reset_index(inplace=True)\n",
    "ace_temperature.reset_index(inplace=True)\n",
    "ace_mag_field.reset_index(inplace=True)\n",
    "ace_dist_sun = ace_dist_sun.rename(columns = {\"Unnamed: 0\": \"Time\"})\n",
    "ace_density = ace_density.rename(columns = {\"Unnamed: 0\": \"Time\"})\n",
    "ace_velocity = ace_velocity.rename(columns = {\"Unnamed: 0\": \"Time\", \"sw_v_gsm[0]\": \"vx\", \"sw_v_gsm[1]\": \"vy\", \"sw_v_gsm[2]\": \"vz\"})\n",
    "ace_temperature = ace_temperature.rename(columns = {\"Unnamed: 0\": \"Time\"})\n",
    "ace_mag_field = ace_mag_field.rename(columns = {\"Unnamed: 0\": \"Time\"})"
   ]
  },
  {
   "cell_type": "code",
   "execution_count": null,
   "id": "1c7861ac-8800-4b97-b21b-755c7739f684",
   "metadata": {},
   "outputs": [],
   "source": [
    "print(ace_dist_sun.head())\n",
    "print(ace_density.tail())"
   ]
  },
  {
   "cell_type": "code",
   "execution_count": null,
   "id": "47396a21-6301-4051-b310-38a2561a22dd",
   "metadata": {},
   "outputs": [],
   "source": [
    "for start_time, end_time in zip(icme_starts[:-1], icme_ends):\n",
    "    ace_dist_sun[dt.datetime(ace_dist_sun[\"Time\"].to_numpy()) < start_time | (dt.datetime(ace_dist_sun[\"Time\"]) > end_time)]\n",
    "    ace_density[dt.datetime(ace_density[\"Time\"]) < start_time | (dt.datetime(ace_density[\"Time\"]) > end_time)]\n",
    "    ace_velocity[dt.datetime(ace_velocity[\"Time\"]) < start_time | (dt.datetime(ace_velocity[\"Time\"]) > end_time)]\n",
    "    ace_temperature[dt.datetime(ace_temperature[\"Time\"]) < start_time | (dt.datetime(ace_temperature[\"Time\"]) > end_time)]\n",
    "    ace_mag_field[dt.datetime(ace_mag_field[\"Time\"]) < start_time | (dt.datetime(ace_mag_field[\"Time\"]) > end_time)]"
   ]
  },
  {
   "cell_type": "code",
   "execution_count": null,
   "id": "ab0197e2",
   "metadata": {},
   "outputs": [],
   "source": [
    "#Manipulate the dataframes to get them into a useable form\n",
    "ace_dist_sun[\"Time\"] = (pd.to_datetime(ace_dist_sun[\"Time\"])-start_date).dt.total_seconds()\n",
    "ace_density[\"Time\"] = (pd.to_datetime(ace_density[\"Time\"])-start_date).dt.total_seconds()\n",
    "ace_velocity[\"Time\"] = (pd.to_datetime(ace_velocity[\"Time\"])-start_date).dt.total_seconds()\n",
    "ace_temperature[\"Time\"] = (pd.to_datetime(ace_temperature[\"Time\"])-start_date).dt.total_seconds()\n",
    "ace_mag_field[\"Time\"] = (pd.to_datetime(ace_mag_field[\"Time\"])-start_date).dt.total_seconds()\n",
    "ace_velocity = ace_velocity.rename(columns = {\"index\": \"Time\", \"sw_v_gsm[0]\": \"vx\", \"sw_v_gsm[1]\": \"vy\", \"sw_v_gsm[2]\": \"vz\"})\n",
    "ace_velocity = ace_velocity.assign(vmag = lambda x: np.sqrt(x[\"vx\"]**2 + x[\"vy\"]**2 + x[\"vz\"]**2))\n",
    "ace_temperature = ace_temperature.assign(temp = lambda x: (x[\"sw_t\"]*1.6*10**(-19))/(1.38*10**(-23)))\n",
    "print(ace_dist_sun.head())\n",
    "print(ace_density.tail())"
   ]
  },
  {
   "cell_type": "code",
   "execution_count": null,
   "id": "a36b920e",
   "metadata": {},
   "outputs": [],
   "source": [
    "#Array of desired values\n",
    "point = 0\n",
    "interpolated_times = []\n",
    "while point <= 65749680:\n",
    "    interpolated_times.append(point)\n",
    "    point += 63.99923"
   ]
  },
  {
   "cell_type": "code",
   "execution_count": null,
   "id": "85ab9464",
   "metadata": {
    "scrolled": true
   },
   "outputs": [],
   "source": [
    "#Interpolation\n",
    "interpolate_function = interpolate.interp1d(ace_dist_sun[\"Time\"], ace_dist_sun[\"ace_r_sun\"])\n",
    "interpolated_distances = interpolate_function(interpolated_times) "
   ]
  },
  {
   "cell_type": "code",
   "execution_count": null,
   "id": "00d0128b",
   "metadata": {},
   "outputs": [],
   "source": [
    "#Plotting r against n\n",
    "plt.plot(interpolated_distances, ace_density[\"sw_n\"])\n",
    "plt.plot(interpolated_distances, theoretical_density(interpolated_distances))\n",
    "plt.xlabel(\"Distance from the Sun (AU)\")\n",
    "plt.ylabel(\"Number density (cm^-3)\")\n",
    "plt.show()"
   ]
  },
  {
   "cell_type": "code",
   "execution_count": null,
   "id": "ac214354",
   "metadata": {},
   "outputs": [],
   "source": [
    "#Plotting v against r\n",
    "plt.plot(interpolated_distances, ace_velocity[\"vmag\"])\n",
    "plt.plot(interpolated_distances, theoretical_velocity(interpolated_distances))\n",
    "plt.xlabel(\"Distance from the Sun (AU)\")\n",
    "plt.ylabel(\"Magnitude of the velocity (km/s)\")\n",
    "plt.legend([\"Satellite Data\", \"Theoretical Prediction\"])\n",
    "plt.show()"
   ]
  },
  {
   "cell_type": "code",
   "execution_count": null,
   "id": "9b07635a-35fe-4177-8c09-335a1617fd89",
   "metadata": {
    "scrolled": true
   },
   "outputs": [],
   "source": [
    "#Plotting T against r\n",
    "plt.plot(interpolated_distances, ace_temperature[\"temp\"])\n",
    "plt.plot(interpolated_distances, theoretical_temperature(interpolated_distances))\n",
    "plt.xlabel(\"Distance from the Sun (AU)\")\n",
    "plt.ylabel(\"Temperature (K)\")\n",
    "plt.show()"
   ]
  },
  {
   "cell_type": "code",
   "execution_count": null,
   "id": "8812268b-f1f6-40b7-a62b-e5ade6f90c6b",
   "metadata": {},
   "outputs": [],
   "source": [
    "ace_mag_field.head()"
   ]
  },
  {
   "cell_type": "code",
   "execution_count": null,
   "id": "45a4030b-646b-4c9a-94dc-2d5faf8f65f8",
   "metadata": {
    "scrolled": true
   },
   "outputs": [],
   "source": [
    "# Convert the magnetic field coordinates into heliocentric polar coordinates.\n",
    "ace_gse_comp = ace_mag_field[[\"imf[0]\", \"imf[1]\", \"imf[2]\"]]\n",
    "ace_polar_coords = gse_coordinate_conversion(ace_gse_comp)\n",
    "ace_polar_coords = pd.DataFrame(ace_polar_coords, columns=[\"Br\", \"B_theta\", \"B_phi\"])\n",
    "print(ace_polar_coords.head())"
   ]
  },
  {
   "cell_type": "code",
   "execution_count": null,
   "id": "ae22f476-75a2-48ab-af53-ad5897add548",
   "metadata": {},
   "outputs": [],
   "source": [
    "ace_mag_field = ace_mag_field.assign(Br=ace_polar_coords[\"Br\"])\n",
    "ace_mag_field = ace_mag_field.assign(B_theta=ace_polar_coords[\"B_theta\"])\n",
    "ace_mag_field = ace_mag_field.assign(B_phi=ace_polar_coords[\"B_phi\"])\n",
    "print(ace_mag_field.tail())"
   ]
  },
  {
   "cell_type": "code",
   "execution_count": null,
   "id": "30ed944a-bc1c-4dc6-9825-fda2d6560ce0",
   "metadata": {},
   "outputs": [],
   "source": [
    "print(gse_coordinate_conversion(ace_gse_comp))"
   ]
  },
  {
   "cell_type": "code",
   "execution_count": null,
   "id": "9009887e-b49f-415f-ac46-723553843586",
   "metadata": {
    "scrolled": true
   },
   "outputs": [],
   "source": [
    "#Plotting T against r\n",
    "plt.plot(interpolated_distances, np.average(ace_mag_field[\"Br\"].dropna().to_numpy().reshape(-1, 4)))\n",
    "plt.xlabel(\"Distance from the Sun (AU)\")\n",
    "plt.ylabel(\"Br (nT)\")\n",
    "plt.show()"
   ]
  },
  {
   "cell_type": "code",
   "execution_count": null,
   "id": "a0c25a76-dea4-4418-bafa-7b7e9f53cef8",
   "metadata": {},
   "outputs": [],
   "source": [
    "ace_distances = {\"distance\": interpolated_distances}\n",
    "ace_data = pd.DataFrame(ace_distances)\n",
    "ace_data = ace_data.assign(density = ace_density[\"sw_n\"])\n",
    "ace_data = ace_data.assign(vmag = ace_velocity[\"vmag\"])\n",
    "ace_data = ace_data.assign(temp = ace_temperature[\"temp\"])\n",
    "ace_data = ace_data.assign(Br = ace_mag_field[\"Br\"])\n",
    "ace_data = ace_data.assign(B_theta = ace_mag_field[\"B_theta\"])\n",
    "ace_data = ace_data.assign(B_phi = ace_mag_field[\"B_phi\"])\n",
    "ace_data = ace_data.to_csv(\"ace_data.csv\")\n",
    "#print(ace_data.head())"
   ]
  },
  {
   "cell_type": "markdown",
   "id": "9511c88c",
   "metadata": {
    "jp-MarkdownHeadingCollapsed": true
   },
   "source": [
    "## DSCOVR"
   ]
  },
  {
   "cell_type": "code",
   "execution_count": null,
   "id": "9bc0ae5f",
   "metadata": {},
   "outputs": [],
   "source": [
    "#Set datetime range as variables for ease of use\n",
    "start_date = dt.datetime(2018, 6, 1, 0, 0)\n",
    "end_date = dt.datetime(2020, 7, 1, 0, 0)"
   ]
  },
  {
   "cell_type": "code",
   "execution_count": null,
   "id": "f50693aa",
   "metadata": {},
   "outputs": [],
   "source": [
    "# Obtain the distance and density data from DSCOVR and convert into a dataframe \n",
    "dscovr_dist_sun = spz.get_data(amda_tree.Parameters.DSCOVR.Ephemeris.dsc_orb_all.dsc_r_sun, start_date, end_date)\n",
    "dscovr_dist_sun = dscovr_dist_sun.to_dataframe()\n",
    "dscovr_density = spz.amda.get_data(\"dsc_npr_3s\", start_date, end_date)\n",
    "dscovr_density = dscovr_density.to_dataframe()\n",
    "dscovr_velocity = spz.amda.get_data(\"dsc_vpr_3s_gsm\", start_date, end_date)\n",
    "dscovr_velocity = dscovr_velocity.to_dataframe()\n",
    "dscovr_temperature = spz.amda.get_data(\"dsc_tpr_3s\", start_date, end_date)\n",
    "dscovr_temperature = dscovr_temperature.to_dataframe()\n",
    "dscovr_mag_field = spz.amda.get_data(\"dsc_b_gse\", start_date, end_date)\n",
    "dscovr_mag_field = dscovr_mag_field.to_dataframe()\n",
    "print(dscovr_dist_sun.head())"
   ]
  },
  {
   "cell_type": "code",
   "execution_count": null,
   "id": "708e3b3c-d52d-4870-8e90-0c2d19db5601",
   "metadata": {},
   "outputs": [],
   "source": [
    "dscovr_dist_sun.to_csv(\"dscovr_distance.csv\")\n",
    "dscovr_density.to_csv(\"dscovr_density.csv\")\n",
    "dscovr_velocity.to_csv(\"dscovr_velocity.csv\")\n",
    "dscovr_temperature.to_csv(\"dscovr_temperature.csv\")\n",
    "dscovr_mag_field.to_csv(\"dscovr_mag_field\")"
   ]
  },
  {
   "cell_type": "code",
   "execution_count": null,
   "id": "00f5ee49-01dd-47ec-a3fc-f0ef52d99e84",
   "metadata": {},
   "outputs": [],
   "source": [
    "dscovr_dist_sun = pd.read_csv(\"dscovr_distance.csv\")\n",
    "dscovr_density = pd.read_csv(\"dscovr_density.csv\")\n",
    "dscovr_velocity = pd.read_csv(\"dscovr_velocity.csv\")\n",
    "dscovr_temperature = pd.read_csv(\"dscovr_temperature.csv\")\n",
    "dscovr_mag_field = pd.read_csv(\"dscovr_mag_field\")"
   ]
  },
  {
   "cell_type": "code",
   "execution_count": null,
   "id": "c3e964f6-e3d8-4c9d-9e22-5444aa6ec2fc",
   "metadata": {},
   "outputs": [],
   "source": [
    "print(dscovr_velocity.head())\n",
    "print(dscovr_temperature.head())"
   ]
  },
  {
   "cell_type": "code",
   "execution_count": null,
   "id": "37dda1e4",
   "metadata": {},
   "outputs": [],
   "source": [
    "# Manipulate the dataframes to get them into a useable form\n",
    "dscovr_dist_sun.reset_index(inplace=True)\n",
    "dscovr_density.reset_index(inplace=True)\n",
    "dscovr_temperature.reset_index(inplace=True)\n",
    "dscovr_mag_field.reset_index(inplace=True)\n",
    "dscovr_dist_sun = dscovr_dist_sun.rename(columns = {\"Unnamed: 0\": \"Time\"})\n",
    "dscovr_density = dscovr_density.rename(columns = {\"Unnamed: 0\": \"Time\"})\n",
    "dscovr_velocity = dscovr_velocity.rename(columns = {\"Unnamed: 0\": \"Time\"})\n",
    "dscovr_temperature = dscovr_temperature.rename(columns = {\"Unnamed: 0\": \"Time\"})\n",
    "dscovr_mag_field = dscovr_mag_field.rename(columns = {\"Unnamed: 0\": \"Time\"})\n",
    "dscovr_dist_sun[\"Time\"] = (pd.to_datetime(dscovr_dist_sun[\"Time\"])-start_date).dt.total_seconds()\n",
    "dscovr_density[\"Time\"] = (pd.to_datetime(dscovr_density[\"Time\"])-start_date).dt.total_seconds()\n",
    "dscovr_velocity[\"Time\"] = (pd.to_datetime(dscovr_velocity[\"Time\"])-start_date).dt.total_seconds()\n",
    "dscovr_temperature[\"Time\"] = (pd.to_datetime(dscovr_temperature[\"Time\"])-start_date).dt.total_seconds()\n",
    "dscovr_mag_field[\"Time\"] = (pd.to_datetime(dscovr_mag_field[\"Time\"])-start_date).dt.total_seconds()\n",
    "dscovr_velocity = dscovr_velocity.rename(columns = {\"index\": \"Time\", \"dsc_vpr_3s_gsm[0]\": \"vx\", \"dsc_vpr_3s_gsm[1]\": \"vy\", \"dsc_vpr_3s_gsm[2]\": \"vz\"})\n",
    "dscovr_velocity = dscovr_velocity.assign(vmag = lambda x: np.sqrt(x[\"vx\"]**2 + x[\"vy\"]**2 + x[\"vz\"]**2))\n",
    "# DSCOVR's temperature is in eV to convert into K\n",
    "dscovr_temperature = dscovr_temperature.assign(temp = lambda x: np.absolute((x[\"dsc_tpr_3s\"]*(1.6*10**(-19)))/(1.38*10**(-23))))\n",
    "print(dscovr_dist_sun.head())\n",
    "print(dscovr_density.head())\n",
    "print(dscovr_temperature.head())"
   ]
  },
  {
   "cell_type": "code",
   "execution_count": null,
   "id": "fd186d7a-fa6b-493d-87bc-6cf4b9a7d1c9",
   "metadata": {},
   "outputs": [],
   "source": [
    "print(dscovr_dist_sun.tail())\n",
    "print(dscovr_density.tail())"
   ]
  },
  {
   "cell_type": "code",
   "execution_count": null,
   "id": "ca3f6a26",
   "metadata": {},
   "outputs": [],
   "source": [
    "#Array of desired values\n",
    "point = 27\n",
    "interpolated_times = []\n",
    "while point <= 65404740:\n",
    "    interpolated_times.append(point)\n",
    "    point += 27.8306"
   ]
  },
  {
   "cell_type": "code",
   "execution_count": null,
   "id": "df5e2f26",
   "metadata": {},
   "outputs": [],
   "source": [
    "interpolate_func_d = interpolate.interp1d(dscovr_dist_sun[\"Time\"], dscovr_dist_sun[\"dsc_r_sun\"])\n",
    "interpolated_distances = interpolate_func_d(interpolated_times)\n",
    "interpolate_func_bx = interpolate.interp1d(dscovr_mag_field[\"Time\"], dscovr_mag_field[\"dsc_b_gse[0]\"])\n",
    "interpolated_bx = interpolate_func_bx(interpolated_times)\n",
    "interpolate_func_by = interpolate.interp1d(dscovr_mag_field[\"Time\"], dscovr_mag_field[\"dsc_b_gse[1]\"])\n",
    "interpolated_by = interpolate_func_by(interpolated_times)\n",
    "interpolate_func_bz = interpolate.interp1d(dscovr_mag_field[\"Time\"], dscovr_mag_field[\"dsc_b_gse[2]\"])\n",
    "interpolated_bz = interpolate_func_bz(interpolated_times)"
   ]
  },
  {
   "cell_type": "code",
   "execution_count": null,
   "id": "276453e9-f117-4fff-b809-2595886f782a",
   "metadata": {},
   "outputs": [],
   "source": [
    "interpolated_mag = pd.DataFrame({\"Time\": interpolated_times, \"Bx\" : interpolated_bx, \"By\" : interpolated_by, \"Bz\" : interpolated_bz})"
   ]
  },
  {
   "cell_type": "code",
   "execution_count": null,
   "id": "69d75f92-5e06-41bc-bb71-0a510ce18dd0",
   "metadata": {},
   "outputs": [],
   "source": [
    "interpolated_mag[\"Bx\"]"
   ]
  },
  {
   "cell_type": "code",
   "execution_count": null,
   "id": "d2f205f4-a5a0-48cf-8799-90060a17e0b1",
   "metadata": {},
   "outputs": [],
   "source": [
    "# Convert the magnetic field coordinates into heliocentric polar coordinates.\n",
    "dscovr_gse_comp = interpolated_mag[[\"Bx\", \"By\", \"Bz\"]]\n",
    "dscovr_polar_coords = gse_coordinate_conversion(dscovr_gse_comp)\n",
    "dscovr_polar_coords = pd.DataFrame(dscovr_polar_coords, columns=[\"Br\", \"B_theta\", \"B_phi\"])\n",
    "print(dscovr_polar_coords.head())"
   ]
  },
  {
   "cell_type": "code",
   "execution_count": null,
   "id": "93f613d7-39d8-4e90-881a-a58f4c2f3e43",
   "metadata": {},
   "outputs": [],
   "source": [
    "print(len(interpolated_distances))\n",
    "print(len(interpolated_bx))"
   ]
  },
  {
   "cell_type": "code",
   "execution_count": null,
   "id": "fa664b7d",
   "metadata": {},
   "outputs": [],
   "source": [
    "#Plotting r against n\n",
    "plt.plot(interpolated_distances, dscovr_density[\"dsc_npr_3s\"])\n",
    "plt.plot(interpolated_distances, theoretical_density(interpolated_distances))\n",
    "plt.xlabel(\"Distance from the Sun (AU)\")\n",
    "plt.ylabel(\"Number density (cm^-3)\")\n",
    "plt.show()"
   ]
  },
  {
   "cell_type": "code",
   "execution_count": null,
   "id": "4ce22f50-867c-4163-9096-1e275cdafb66",
   "metadata": {},
   "outputs": [],
   "source": [
    "#Plotting r against n\n",
    "plt.plot(interpolated_distances, dscovr_velocity[\"vmag\"])\n",
    "plt.plot(interpolated_distances, theoretical_velocity(interpolated_distances))\n",
    "plt.xlabel(\"Distance from the Sun (AU)\")\n",
    "plt.ylabel(\"Magntiude of the velocity (km/s)\")\n",
    "plt.show()"
   ]
  },
  {
   "cell_type": "code",
   "execution_count": null,
   "id": "3dc4c241-981b-4161-8a58-57aa832aeb35",
   "metadata": {
    "scrolled": true
   },
   "outputs": [],
   "source": [
    "plt.plot(interpolated_distances, dscovr_temperature[\"temp\"])\n",
    "plt.plot(interpolated_distances, theoretical_temperature(interpolated_distances))\n",
    "plt.xlabel(\"Distance from the Sun (AU)\")\n",
    "plt.ylabel(\"Temperature(K)\")\n",
    "plt.show()"
   ]
  },
  {
   "cell_type": "code",
   "execution_count": null,
   "id": "3f3acac2-fb0b-4d72-91eb-75f7d129835a",
   "metadata": {
    "scrolled": true
   },
   "outputs": [],
   "source": [
    "plt.plot(interpolated_distances, dscovr_polar_coords[\"Br\"])\n",
    "plt.xlabel(\"Distance from the Sun (AU)\")\n",
    "plt.ylabel(\"Br (nT)\")\n",
    "plt.show()"
   ]
  },
  {
   "cell_type": "code",
   "execution_count": null,
   "id": "9548acdc-89be-473f-8b38-d3a1de3589ac",
   "metadata": {},
   "outputs": [],
   "source": [
    "dscovr_distances = {\"distance\": interpolated_distances}\n",
    "dscovr_data = pd.DataFrame(dscovr_distances)\n",
    "dscovr_data = dscovr_data.assign(density=dscovr_density[\"dsc_npr_3s\"])\n",
    "dscovr_data = dscovr_data.assign(vmag=dscovr_velocity[\"vmag\"])\n",
    "dscovr_data = dscovr_data.assign(temp=dscovr_temperature[\"temp\"])\n",
    "dscovr_data = dscovr_data.assign(Br=dscovr_polar_coords[\"Br\"])\n",
    "dscovr_data = dscovr_data.assign(B_theta=dscovr_polar_coords[\"B_theta\"])\n",
    "dscovr_data = dscovr_data.assign(B_phi=dscovr_polar_coords[\"B_phi\"])\n",
    "dscovr_data = dscovr_data.to_csv(\"dscovr_data.csv\")"
   ]
  },
  {
   "cell_type": "markdown",
   "id": "a2162cc5",
   "metadata": {
    "jp-MarkdownHeadingCollapsed": true
   },
   "source": [
    "## Helios 1"
   ]
  },
  {
   "cell_type": "code",
   "execution_count": null,
   "id": "d28ce570",
   "metadata": {},
   "outputs": [],
   "source": [
    "#Set datetime range as variables for ease of use\n",
    "start_date = dt.datetime(1975, 4, 1, 0, 0)\n",
    "end_date = dt.datetime(1977, 5, 1, 0, 0)"
   ]
  },
  {
   "cell_type": "markdown",
   "id": "27d98734",
   "metadata": {},
   "source": [
    "### Density against distance from the Sun"
   ]
  },
  {
   "cell_type": "code",
   "execution_count": null,
   "id": "5b8f3620",
   "metadata": {
    "scrolled": true
   },
   "outputs": [],
   "source": [
    "#Obtain the distance and density data from Helios 1 and convert into a dataframe \n",
    "helios1_dist_sun = spz.amda.get_data(\"helios1_sun_r\", start_date, end_date)\n",
    "helios1_dist_sun = helios1_dist_sun.to_dataframe()\n",
    "#Obtain the density data\n",
    "helios1_density = spz.amda.get_data(\"helios1_e1_np\", start_date, end_date)\n",
    "helios1_density = helios1_density.to_dataframe()\n",
    "helios1_velocity = spz.amda.get_data(\"helios1_e1_vp\", start_date, end_date)\n",
    "helios1_velocity = helios1_velocity.to_dataframe()\n",
    "helios1_temperature = spz.amda.get_data(\"helios1_e1_t_perp\", start_date, end_date)\n",
    "helios1_temperature = helios1_temperature.to_dataframe()\n",
    "helios1_mag_field = spz.amda.get_data(\"helios1_b_rtn\",start_date, end_date)\n",
    "helios1_mag_field = helios1_mag_field.to_dataframe()\n",
    "#print(helios1_dist_sun.head())"
   ]
  },
  {
   "cell_type": "code",
   "execution_count": null,
   "id": "44cfe6fe",
   "metadata": {},
   "outputs": [],
   "source": [
    "#Manipulate the dataframes to get them into a useable form\n",
    "helios1_dist_sun.reset_index(inplace=True)\n",
    "helios1_density.reset_index(inplace=True)\n",
    "helios1_velocity.reset_index(inplace=True)\n",
    "helios1_temperature.reset_index(inplace=True)\n",
    "helios1_mag_field.reset_index(inplace=True)\n",
    "helios1_dist_sun = helios1_dist_sun.rename(columns ={\"index\": \"Time\"})\n",
    "helios1_density = helios1_density.rename(columns = {\"index\": \"Time\"})\n",
    "helios1_velocity = helios1_velocity.rename(columns = {\"index\": \"Time\", \"helios1_e1_vp[0]\": \"vx\", \"helios1_e1_vp[1]\": \"vy\", \"helios1_e1_vp[2]\": \"vz\"})\n",
    "helios1_temperature = helios1_temperature.rename(columns = {\"index\": \"Time\"})\n",
    "helios1_mag_field = helios1_mag_field.rename(columns = {\"index\": \"Time\"})\n",
    "helios1_dist_sun[\"Time\"] = (pd.to_datetime(helios1_dist_sun[\"Time\"])-start_date).dt.total_seconds()\n",
    "helios1_density[\"Time\"] = (pd.to_datetime(helios1_density[\"Time\"])-start_date).dt.total_seconds()\n",
    "helios1_velocity[\"Time\"] = (pd.to_datetime(helios1_velocity[\"Time\"])-start_date).dt.total_seconds()\n",
    "helios1_temperature[\"Time\"] = (pd.to_datetime(helios1_temperature[\"Time\"])-start_date).dt.total_seconds()\n",
    "helios1_mag_field[\"Time\"] = (pd.to_datetime(helios1_mag_field[\"Time\"])-start_date).dt.total_seconds()\n",
    "helios1_velocity = helios1_velocity.assign(vmag = lambda x: np.sqrt(x[\"vr\"]**2 + x[\"vt\"]**2 + x[\"vn\"]**2))\n",
    "helios1_temperature = helios1_temperature.assign(temp = lambda x: x[\"t_perp\"]*1.6*10**(-19)/(1.38*10**(-23)))"
   ]
  },
  {
   "cell_type": "code",
   "execution_count": null,
   "id": "68005610-72b1-4787-818e-cb0fa4617ee7",
   "metadata": {},
   "outputs": [],
   "source": [
    "helios1_dist_sun = helios1_dist_sun.to_csv(\"helios1_raw_dist.csv\")\n",
    "helios1_density = helios1_density.to_csv(\"helios1_raw_den\")\n",
    "helios1_velocity = helios1_velocity.to_csv(\"helios1_raw_vmag\")\n",
    "helios1_temperature = helios1_temperature.to_csv(\"helios1_raw_temp.csv\")\n",
    "helios1_mag_field = helios1_mag_field.to_csv(\"helios1_raw_mag.csv\")"
   ]
  },
  {
   "cell_type": "code",
   "execution_count": null,
   "id": "ed5c5326",
   "metadata": {
    "scrolled": true
   },
   "outputs": [],
   "source": [
    "fig = plt.figure()\n",
    "plt.plot(helios1_density[\"Time\"], helios1_density[\"density\"])\n",
    "plt.show()"
   ]
  },
  {
   "cell_type": "code",
   "execution_count": null,
   "id": "0b747171-fb5e-4056-b662-b67c11819b47",
   "metadata": {},
   "outputs": [],
   "source": [
    "print(helios1_dist_sun.head())\n",
    "print(helios1_velocity.tail())\n",
    "print(helios1_mag_field.tail())"
   ]
  },
  {
   "cell_type": "code",
   "execution_count": null,
   "id": "ab8e1361",
   "metadata": {},
   "outputs": [],
   "source": [
    "#Array of desired values\n",
    "point = 3599\n",
    "interpolated_times = []\n",
    "while point <= 65750400:\n",
    "    interpolated_times.append(point)\n",
    "    point += 181.6392"
   ]
  },
  {
   "cell_type": "code",
   "execution_count": null,
   "id": "7299c428",
   "metadata": {},
   "outputs": [],
   "source": [
    "#Interpolation\n",
    "interpolate_function = interpolate.interp1d(helios1_dist_sun[\"Time\"], helios1_dist_sun[\"distance helios1-sun\"])\n",
    "interpolated_distances = interpolate_function(interpolated_times)"
   ]
  },
  {
   "cell_type": "code",
   "execution_count": null,
   "id": "56d1f311",
   "metadata": {},
   "outputs": [],
   "source": [
    "#Plotting n against r\n",
    "fig = plt.figure()\n",
    "plt.plot(interpolated_distances, helios1_density[\"density\"])\n",
    "plt.plot(interpolated_distances, theoretical_density(interpolated_distances))\n",
    "plt.xlabel(\"Distance from the Sun (AU)\")\n",
    "plt.ylabel(\"Number density(cm/3)\")\n",
    "plt.show()\n",
    "print(helios1_density.tail())"
   ]
  },
  {
   "cell_type": "code",
   "execution_count": null,
   "id": "59dfb0f6",
   "metadata": {},
   "outputs": [],
   "source": [
    "fig = plt.figure()\n",
    "plt.plot(helios1_velocity[\"Time\"], helios1_velocity[\"vmag\"])\n",
    "plt.show()\n",
    "print(helios1_dist_sun.tail())\n",
    "print(helios1_velocity.tail())"
   ]
  },
  {
   "cell_type": "code",
   "execution_count": null,
   "id": "38b31386",
   "metadata": {},
   "outputs": [],
   "source": [
    "fig = plt.figure()\n",
    "plt.plot(interpolated_distances, helios1_velocity[\"vmag\"])\n",
    "plt.plot(interpolated_distances, theoretical_velocity(interpolated_distances))\n",
    "plt.xlabel(\"Distance from the Sun (AU)\")\n",
    "plt.ylabel(\"Magnitude of the velocity (km/s)\")\n",
    "plt.show()"
   ]
  },
  {
   "cell_type": "code",
   "execution_count": null,
   "id": "a93fad4e-7f41-40ca-9661-16eb44734766",
   "metadata": {},
   "outputs": [],
   "source": [
    "plt.plot(interpolated_distances, helios1_temperature[\"temp\"])\n",
    "plt.plot(interpolated_distances, theoretical_temperature(interpolated_distances))\n",
    "plt.xlabel(\"Distance from the Sun (AU)\")\n",
    "plt.ylabel(\"Temperature (K)\")\n",
    "plt.show()"
   ]
  },
  {
   "cell_type": "code",
   "execution_count": null,
   "id": "573d7922-f262-4d1d-bcb0-34d756ef9c9a",
   "metadata": {},
   "outputs": [],
   "source": [
    "plt.plot(interpolated_distances, helios1_mag_field[\"r\"])\n",
    "plt.xlabel(\"Distance from the Sun (AU)\")\n",
    "plt.ylabel(\"Bx (nT)\")\n",
    "plt.show()"
   ]
  },
  {
   "cell_type": "code",
   "execution_count": null,
   "id": "a42f9469-7285-4a92-a0db-f0b962ba0fb7",
   "metadata": {},
   "outputs": [],
   "source": [
    "helios1_distances = {\"distance\": interpolated_distances}\n",
    "helios1_data = pd.DataFrame(helios1_distances)\n",
    "helios1_data = helios1_data.assign(density = helios1_density[\"density\"])\n",
    "helios1_data = helios1_data.assign(vmag = helios1_velocity[\"vmag\"])\n",
    "helios1_data = helios1_data.assign(temp = helios1_temperature[\"temp\"])\n",
    "helios1_data = helios1_data.assign(Bx = helios1_mag_field[\"r\"])\n",
    "helios1_data = helios1_data.assign(By = helios1_mag_field[\"t\"])\n",
    "helios1_data = helios1_data.assign(Bz = helios1_mag_field[\"n\"])\n",
    "helios1_data = helios1_data.to_csv(\"helios1_data.csv\")"
   ]
  },
  {
   "cell_type": "markdown",
   "id": "0b37c402",
   "metadata": {
    "jp-MarkdownHeadingCollapsed": true
   },
   "source": [
    "## Parker Solar Probe"
   ]
  },
  {
   "cell_type": "code",
   "execution_count": null,
   "id": "9b1d4919",
   "metadata": {},
   "outputs": [],
   "source": [
    "#Set datetime range as variables for ease of use\n",
    "start_date = dt.datetime(2018, 6, 1, 0, 0)\n",
    "end_date = dt.datetime(2020, 7, 1, 0, 0)"
   ]
  },
  {
   "cell_type": "markdown",
   "id": "400215aa",
   "metadata": {},
   "source": [
    "### Density against distance from the Sun"
   ]
  },
  {
   "cell_type": "code",
   "execution_count": null,
   "id": "c5afc419",
   "metadata": {},
   "outputs": [],
   "source": [
    "#Obtain the distance and density data from ACE and convert into a dataframe \n",
    "psp_dist_sun = spz.get_data(amda_tree.Parameters.PSP.Ephemeris.psp_orb_all.psp_r_sun, start_date, end_date)\n",
    "psp_dist_sun = psp_dist_sun.to_dataframe()\n",
    "#Obtain the density data\n",
    "psp_density = spz.amda.get_data(\"psp_spc_np_mom\", start_date, end_date)\n",
    "psp_density = psp_density.to_dataframe()\n",
    "psp_velocity = spz.amda.get_data(\"psp_spc_vp_mom\", start_date, end_date)\n",
    "psp_velocity = psp_velocity.to_dataframe()\n",
    "psp_temperature = spz.amda.get_data(\"psp_spi_Hw\", start_date, end_date)\n",
    "psp_temperature = psp_temperature.to_dataframe()\n",
    "psp_mag_field = spz.amda.get_data(\"psp_b_1min\", start_date, end_date)\n",
    "psp_mag_field = psp_mag_field.to_dataframe()"
   ]
  },
  {
   "cell_type": "code",
   "execution_count": null,
   "id": "18823cc2-54e9-4a97-9539-cc523ffeda82",
   "metadata": {},
   "outputs": [],
   "source": [
    "psp_density.head()"
   ]
  },
  {
   "cell_type": "code",
   "execution_count": null,
   "id": "bc5d45a5",
   "metadata": {},
   "outputs": [],
   "source": [
    "#Manipulate the dataframes to get them into a useable form\n",
    "psp_dist_sun.reset_index(inplace=True)\n",
    "psp_density.reset_index(inplace=True)\n",
    "psp_velocity.reset_index(inplace=True)\n",
    "psp_temperature.reset_index(inplace=True)\n",
    "psp_mag_field.reset_index(inplace=True)\n",
    "psp_dist_sun = psp_dist_sun.rename(columns = {\"index\": \"Time\"})\n",
    "psp_density = psp_density.rename(columns = {\"index\": \"Time\"})\n",
    "psp_velocity = psp_velocity.rename(columns = {\"index\": \"Time\"})\n",
    "psp_temperature = psp_temperature.rename(columns = {\"index\": \"Time\"})\n",
    "psp_mag_field = psp_mag_field.rename(columns = {\"index\": \"Time\"})\n",
    "psp_dist_sun[\"Time\"] = (pd.to_datetime(psp_dist_sun[\"Time\"])-start_date).dt.total_seconds()\n",
    "psp_density[\"Time\"] = (pd.to_datetime(psp_density[\"Time\"])-start_date).dt.total_seconds()\n",
    "psp_velocity[\"Time\"] = (pd.to_datetime(psp_velocity[\"Time\"])-start_date).dt.total_seconds()\n",
    "psp_temperature[\"Time\"] = (pd.to_datetime(psp_temperature[\"Time\"])-start_date).dt.total_seconds()\n",
    "psp_mag_field[\"Time\"] = (pd.to_datetime(psp_mag_field[\"Time\"])-start_date).dt.total_seconds()\n",
    "psp_velocity = psp_velocity.assign(vmag = lambda x: np.sqrt(x[\"vpr\"]**2 + x[\"vpt\"]**2 + x[\"vpn\"]**2))\n",
    "psp_temperature = psp_temperature.assign(temp = lambda x: x[\"h+ temperature\"]*1.6*10**(-19)/(1.38*10**(-23)))\n",
    "print(psp_dist_sun.head())\n",
    "print(psp_density.tail())"
   ]
  },
  {
   "cell_type": "code",
   "execution_count": null,
   "id": "220200f2-14f6-4aaf-b281-011c346ee923",
   "metadata": {},
   "outputs": [],
   "source": [
    "fig = plt.figure()\n",
    "plt.plot(psp_velocity[\"Time\"], psp_velocity[\"vmag\"])\n",
    "plt.show()"
   ]
  },
  {
   "cell_type": "code",
   "execution_count": null,
   "id": "ca53c043-6f8e-4c27-a9c2-779b80778c89",
   "metadata": {},
   "outputs": [],
   "source": [
    "fig = plt.figure()\n",
    "plt.plot(psp_density[\"Time\"], psp_density[\"np_mom\"])\n",
    "plt.show()"
   ]
  },
  {
   "cell_type": "code",
   "execution_count": null,
   "id": "91e53fd6-300f-4e00-9143-c90e8d684f95",
   "metadata": {
    "scrolled": true
   },
   "outputs": [],
   "source": [
    "psp_mag_field.tail()"
   ]
  },
  {
   "cell_type": "code",
   "execution_count": null,
   "id": "787bac55-c81a-4cce-8b0e-d730594a98bd",
   "metadata": {},
   "outputs": [],
   "source": [
    "count = 302400\n",
    "interpolated_times = []\n",
    "while count <= 65579440:\n",
    "    interpolated_times.append(count)\n",
    "    count = count + 99.66158"
   ]
  },
  {
   "cell_type": "code",
   "execution_count": null,
   "id": "338bc709-9da0-46af-a7ce-40f2f6c82cd6",
   "metadata": {
    "scrolled": true
   },
   "outputs": [],
   "source": [
    "#Interpolation\n",
    "interpolate_function = interpolate.interp1d(psp_dist_sun[\"Time\"], psp_dist_sun[\"distance psp-sun\"])\n",
    "interpolated_distances = interpolate_function(interpolated_times)\n",
    "interpolate_func_den = interpolate.interp1d(psp_density[\"Time\"], psp_density[\"np_mom\"])\n",
    "interpolated_densities = interpolate_func_den(interpolated_times)\n",
    "interpolate_func_vel = interpolate.interp1d(psp_velocity[\"Time\"], psp_velocity[\"vmag\"])\n",
    "interpolated_velocities = interpolate_func_vel(interpolated_times)\n",
    "interpolate_func_temp = interpolate.interp1d(psp_temperature[\"Time\"], psp_temperature[\"temp\"])\n",
    "interpolated_temperatures = interpolate_func_temp(interpolated_times)"
   ]
  },
  {
   "cell_type": "code",
   "execution_count": null,
   "id": "b487d8ac-bad8-4cdf-8640-61d622b22354",
   "metadata": {},
   "outputs": [],
   "source": [
    "fig = plt.figure()\n",
    "plt.plot(interpolated_distances, interpolated_densities)\n",
    "plt.plot(interpolated_distances, theoretical_density(interpolated_distances))\n",
    "plt.xlabel(\"Distance from the Sun (AU)\")\n",
    "plt.ylabel(\"Number density(cm/3)\")\n",
    "plt.show()"
   ]
  },
  {
   "cell_type": "code",
   "execution_count": null,
   "id": "5cf1c39b-4e2a-4929-b2d3-e259b7c8f0ce",
   "metadata": {
    "scrolled": true
   },
   "outputs": [],
   "source": [
    "fig = plt.figure()\n",
    "plt.plot(interpolated_distances, interpolated_velocities)\n",
    "plt.plot(interpolated_distances, theoretical_velocity(interpolated_distances))\n",
    "plt.xlabel(\"Distance from the Sun (AU)\")\n",
    "plt.ylabel(\"Magnitude of the velocity (km/s)\")\n",
    "plt.show()"
   ]
  },
  {
   "cell_type": "code",
   "execution_count": null,
   "id": "11d50199-cd4e-4f83-9af7-3c2d3f26cae9",
   "metadata": {},
   "outputs": [],
   "source": [
    "psp_temperature.tail()"
   ]
  },
  {
   "cell_type": "code",
   "execution_count": null,
   "id": "aa0b6548-677e-40d3-a249-faafd16a900e",
   "metadata": {},
   "outputs": [],
   "source": [
    "plt.plot(interpolated_distances, interpolated_temperatures)\n",
    "plt.show()"
   ]
  },
  {
   "cell_type": "code",
   "execution_count": null,
   "id": "b49dcd11-0bdd-4174-a551-55575c847edc",
   "metadata": {},
   "outputs": [],
   "source": [
    "count = 10641940\n",
    "interpolated_times_temp = []\n",
    "while count <= 65579440:\n",
    "    interpolated_times_temp.append(count)\n",
    "    count = count + 3.5660694"
   ]
  },
  {
   "cell_type": "code",
   "execution_count": null,
   "id": "6de3a192-8d55-4611-8088-36e7e2efc603",
   "metadata": {},
   "outputs": [],
   "source": [
    "psp_temperature.dropna(inplace=True)\n",
    "interpolate_func_temp = interpolate.interp1d(psp_temperature[\"Time\"], psp_temperature[\"temp\"])\n",
    "interpolated_temp = interpolate_func_temp(interpolated_times_temp)"
   ]
  },
  {
   "cell_type": "code",
   "execution_count": null,
   "id": "bb1a62a4-edd5-40b2-94a2-366913486047",
   "metadata": {},
   "outputs": [],
   "source": [
    "print(interpolated_temp[~(np.isnan(interpolated_temp))])"
   ]
  },
  {
   "cell_type": "code",
   "execution_count": null,
   "id": "9057c8ac-e5d6-4360-a4a2-12fc7b8a7330",
   "metadata": {},
   "outputs": [],
   "source": [
    "plt.plot(interpolated_distances, interpolated_temp)\n",
    "plt.plot(interpolated_distances, theoretical_temperature(interpolated_distances), color=\"orange\")\n",
    "plt.xlabel(\"Distance from the Sun (AU)\")\n",
    "plt.ylabel(\"Temperature(K)\")\n",
    "plt.show()"
   ]
  },
  {
   "cell_type": "code",
   "execution_count": null,
   "id": "b4a11385-6f75-4c64-97cb-9684b6f1a4b9",
   "metadata": {
    "scrolled": true
   },
   "outputs": [],
   "source": [
    "print(psp_dist_sun.tail())\n",
    "print(psp_mag_field.tail())"
   ]
  },
  {
   "cell_type": "code",
   "execution_count": null,
   "id": "d3d75eb3-5443-4f9f-b12a-a9ee1e2cb7e2",
   "metadata": {},
   "outputs": [],
   "source": [
    "count = 32\n",
    "interpolated_times = []\n",
    "while count <= 2505572:\n",
    "    interpolated_times.append(count)\n",
    "    count = count + 74.06"
   ]
  },
  {
   "cell_type": "code",
   "execution_count": null,
   "id": "88a4b5d7-139b-485a-aad9-d174fa360a8c",
   "metadata": {},
   "outputs": [],
   "source": [
    "#Interpolation\n",
    "interpolate_func_d = interpolate.interp1d(psp_dist_sun[\"Time\"], psp_dist_sun[\"psp_r_sun\"])\n",
    "interpolated_distances = interpolate_func_d(interpolated_times)\n",
    "interpolate_func_bx = interpolate.interp1d(psp_mag_field[\"Time\"], psp_mag_field[\"psp_b_1min[0]\"].to_numpy().astype(dtype=\"float64\"))\n",
    "interpolated_bx = interpolate_func_bx(interpolated_times)\n",
    "interpolate_func_by = interpolate.interp1d(psp_mag_field[\"Time\"], psp_mag_field[\"psp_b_1min[1]\"])\n",
    "interpolated_by = interpolate_func_by(interpolated_times)\n",
    "interpolate_func_bz = interpolate.interp1d(psp_mag_field[\"Time\"], psp_mag_field[\"psp_b_1min[2]\"])\n",
    "interpolated_bz = interpolate_func_bz(interpolated_times)"
   ]
  },
  {
   "cell_type": "code",
   "execution_count": null,
   "id": "d40264aa-5499-4615-9a9d-a9a997b25109",
   "metadata": {},
   "outputs": [],
   "source": [
    "plt.plot(interpolated_distances, interpolated_bx)\n",
    "plt.xlabel(\"Distance from the Sun (AU)\")\n",
    "plt.ylabel(\"Bx (nT)\")\n",
    "plt.show()"
   ]
  },
  {
   "cell_type": "code",
   "execution_count": null,
   "id": "a43e1f8f-fb39-488d-8590-19564b09d94a",
   "metadata": {},
   "outputs": [],
   "source": [
    "psp_distances = {\"distance\": interpolated_distances}\n",
    "psp_data = pd.DataFrame(psp_distances)\n",
    "psp_data = psp_data.assign(density = interpolated_densities)\n",
    "psp_data = psp_data.assign(vmag = interpolated_velocities)\n",
    "psp_data = psp_data.assign(temp = interpolated_temperatures)\n",
    "psp_data = psp_data.assign(Bx = psp_mag_field[\"br\"])\n",
    "psp_data = psp_data.assign(By = psp_mag_field[\"bt\"])\n",
    "psp_data = psp_data.assign(Bz = psp_mag_field[\"bn\"])\n",
    "psp_data = psp_data.to_csv(\"psp_data.csv\")"
   ]
  },
  {
   "cell_type": "markdown",
   "id": "35e9fbec-77dd-4e8f-a326-65bc6ec5150c",
   "metadata": {
    "jp-MarkdownHeadingCollapsed": true
   },
   "source": [
    "## Voyager 1"
   ]
  },
  {
   "cell_type": "code",
   "execution_count": null,
   "id": "14f422b3-5236-44ad-b41e-b62b29a5fd64",
   "metadata": {},
   "outputs": [],
   "source": [
    "start_date = dt.datetime(1985, 8, 1, 0, 0, 0)\n",
    "end_date = dt.datetime(1987, 2, 1, 0, 0, 0)"
   ]
  },
  {
   "cell_type": "code",
   "execution_count": null,
   "id": "abcbb8b7-7c8a-4ac1-a5f8-9c7a2cafb9ed",
   "metadata": {},
   "outputs": [],
   "source": [
    "voyager1_dist_sun = spz.amda.get_data(\"r_vo1\", start_date, end_date)\n",
    "voyager1_dist_sun = voyager1_dist_sun.to_dataframe()\n",
    "voyager1_density = spz.amda.get_data(\"vo1_dens_full\", start_date, end_date)\n",
    "voyager1_density = voyager1_density.to_dataframe()"
   ]
  },
  {
   "cell_type": "code",
   "execution_count": null,
   "id": "9be3c63b-b9d1-403b-890e-836a392d7837",
   "metadata": {},
   "outputs": [],
   "source": [
    "\n",
    "voyager1_velocity = spz.amda.get_data(\"vo1_vel_full\", start_date, end_date)\n",
    "voyager1_velocity = voyager1_velocity.to_dataframe()\n",
    "voyager1_temperature = spz.amda.get_data(\"vo1_temp_full\", start_date, end_date)\n",
    "voyager1_temperature = voyager1_temperature.to_dataframe()\n",
    "voyager1_mag_field = spz.amda.get_data(\"vo1_b_full\", start_date, end_date)\n",
    "voyager1_mag_field = voyager1_mag_field.to_dataframe()"
   ]
  },
  {
   "cell_type": "code",
   "execution_count": null,
   "id": "c4b5239e-a448-4dc4-9909-dd5b843c893f",
   "metadata": {},
   "outputs": [],
   "source": [
    "#Manipulate the dataframes to get them into a useable form\n",
    "voyager1_dist_sun.reset_index(inplace=True)\n",
    "voyager1_density.reset_index(inplace=True)\n",
    "voyager1_velocity.reset_index(inplace=True)\n",
    "voyager1_temperature.reset_index(inplace=True)\n",
    "voyager1_mag_field.reset_index(inplace=True)\n",
    "voyager1_dist_sun = voyager1_dist_sun.rename(columns = {\"index\": \"Time\"})\n",
    "voyager1_density = voyager1_density.rename(columns = {\"index\": \"Time\"})\n",
    "voyager1_velocity = voyager1_velocity.rename(columns = {\"index\": \"Time\"})\n",
    "voyager1_temperature = voyager1_temperature.rename(columns = {\"index\": \"Time\"})\n",
    "voyager1_mag_field = voyager1_mag_field.rename(columns = {\"index\": \"Time\"})\n",
    "voyager1_dist_sun[\"Time\"] = (pd.to_datetime(voyager1_dist_sun[\"Time\"])-start_date).dt.total_seconds()\n",
    "voyager1_density[\"Time\"] = (pd.to_datetime(voyager1_density[\"Time\"])-start_date).dt.total_seconds()\n",
    "voyager1_velocity[\"Time\"] = (pd.to_datetime(voyager1_velocity[\"Time\"])-start_date).dt.total_seconds()\n",
    "voyager1_temperature[\"Time\"] = (pd.to_datetime(voyager1_temperature[\"Time\"])-start_date).dt.total_seconds\n",
    "voyager1_mag_field[\"Time\"] = (pd.to_datetime(voyager1_mag_field[\"Time\"])-start_date).dt.total_seconds()\n",
    "voyager1_temperature = voyager1_temperature.assign(temp = lambda x: x[\"vo1_temp_full\"]*1.6*10**(-19)/(1.38*10**(-23)))\n",
    "print(voyager1_dist_sun.head())\n",
    "print(voyager1_density.head())"
   ]
  },
  {
   "cell_type": "code",
   "execution_count": null,
   "id": "f70e8781-40e0-4a90-bf74-1de94fd6a065",
   "metadata": {},
   "outputs": [],
   "source": [
    "print(voyager1_dist_sun.tail())\n",
    "print(voyager1_density.tail())\n",
    "print(voyager1_temperature.head())\n",
    "count = 21600\n",
    "interpolated_times = []\n",
    "while count <= 2649600:\n",
    "    interpolated_times.append(count)\n",
    "    count = count + 3600"
   ]
  },
  {
   "cell_type": "code",
   "execution_count": null,
   "id": "5a6e2ae1-138a-4f84-aca7-b2c627a51f5e",
   "metadata": {},
   "outputs": [],
   "source": [
    "#Interpolation\n",
    "interpolate_function = interpolate.interp1d(voyager1_dist_sun[\"Time\"], voyager1_dist_sun[\"r_vo1\"])\n",
    "interpolated_distances = interpolate_function(interpolated_times)"
   ]
  },
  {
   "cell_type": "code",
   "execution_count": null,
   "id": "499c5122-6d17-49be-ba1d-4c848b4a3a07",
   "metadata": {},
   "outputs": [],
   "source": [
    "ix = [731, 732, 733, 734, 735, 736, 737, 738, 739, 740, 741, 742]\n",
    "voyager1_density = voyager1_density.drop(index=ix)\n",
    "voyager1_velocity = voyager1_velocity.drop(index=ix)\n",
    "voyager1_temperature = voyager1_temperature.drop(index=ix)"
   ]
  },
  {
   "cell_type": "code",
   "execution_count": null,
   "id": "72379886-79ae-4c95-87d7-b4b933a6e845",
   "metadata": {},
   "outputs": [],
   "source": [
    "fig = plt.figure()\n",
    "plt.plot(interpolated_distances, voyager1_density[\"vo1_dens_full\"])\n",
    "plt.plot(interpolated_distances, theoretical_density(interpolated_distances))\n",
    "plt.xlabel(\"Distance from the Sun (AU)\")\n",
    "plt.ylabel(\"Number density(cm^-3)\")\n",
    "plt.show()"
   ]
  },
  {
   "cell_type": "code",
   "execution_count": null,
   "id": "00bec059-ea5d-41c0-a003-2aeac081c1d7",
   "metadata": {},
   "outputs": [],
   "source": [
    "print(voyager1_dist_sun.tail())\n",
    "print(voyager1_velocity.tail())\n",
    "count = 21600\n",
    "interpolated_times = []\n",
    "while count <= 2649600:\n",
    "    interpolated_times.append(count)\n",
    "    count = count + 3600"
   ]
  },
  {
   "cell_type": "code",
   "execution_count": null,
   "id": "116f600a-d537-4968-a36d-b3704a31c250",
   "metadata": {},
   "outputs": [],
   "source": [
    "#Interpolation\n",
    "interpolate_function = interpolate.interp1d(voyager1_dist_sun[\"Time\"], voyager1_dist_sun[\"r_vo1\"])\n",
    "interpolated_distances = interpolate_function(interpolated_times)"
   ]
  },
  {
   "cell_type": "code",
   "execution_count": null,
   "id": "47486ccc-d412-4310-b52a-cce515ee1357",
   "metadata": {},
   "outputs": [],
   "source": [
    "fig = plt.figure()\n",
    "plt.plot(interpolated_distances, voyager1_velocity[\"vo1_vel_full\"])\n",
    "plt.plot(interpolated_distances, theoretical_velocity(interpolated_distances))\n",
    "plt.legend([\"Satellite Data\", \"Theoretical Prediction\"])\n",
    "plt.ylabel(\"Velocity (km/s)\")\n",
    "plt.xlabel(\"Distance from the Sun (AU)\")\n",
    "plt.show()"
   ]
  },
  {
   "cell_type": "code",
   "execution_count": null,
   "id": "a0d600da-ba4b-48bf-a220-c2faf7bfcfee",
   "metadata": {},
   "outputs": [],
   "source": [
    "plt.plot(interpolated_distances, voyager1_temperature[\"temp\"])\n",
    "plt.plot(interpolated_distances, theoretical_temperature(interpolated_distances))\n",
    "plt.xlabel(\"Distance from the Sun (AU)\")\n",
    "plt.ylabel(\"Temperature (K)\")\n",
    "plt.show()"
   ]
  },
  {
   "cell_type": "code",
   "execution_count": null,
   "id": "e9d863ab-7db6-497b-8a8c-09b55d3a593e",
   "metadata": {},
   "outputs": [],
   "source": [
    "ix = []\n",
    "count =731\n",
    "while count <=743:\n",
    "    ix.append(count)\n",
    "    count = count + 1\n",
    "voyager1_mag_field.drop(index=ix, inplace=True)"
   ]
  },
  {
   "cell_type": "code",
   "execution_count": null,
   "id": "baa3c624-e234-408e-a42b-932e0a7b1aa0",
   "metadata": {},
   "outputs": [],
   "source": [
    "plt.plot(interpolated_distances, voyager1_mag_field[\"vo1_b_full[0]\"])\n",
    "plt.xlabel(\"Distance from the Sun (AU)\")\n",
    "plt.ylabel(\"Bx (nT)\")\n",
    "plt.show()"
   ]
  },
  {
   "cell_type": "code",
   "execution_count": null,
   "id": "1333b978-8a64-4e41-b0ef-eb296d2b44b5",
   "metadata": {},
   "outputs": [],
   "source": [
    "voyager1_distances = {\"distance\": interpolated_distances}\n",
    "voyager1_data = pd.DataFrame(voyager1_distances)\n",
    "voyager1_data = voyager1_data.assign(density = voyager1_density[\"vo1_dens_full\"])\n",
    "voyager1_data = voyager1_data.assign(vmag = voyager1_velocity[\"vo1_vel_full\"])\n",
    "voyager1_data = voyager1_data.assign(temp = voyager1_temperature[\"temp\"])\n",
    "voyager1_data = voyager1_data.assign(Bx = voyager1_mag_field[\"vo1_b_full[0]\"])\n",
    "voyager1_data = voyager1_data.assign(By = voyager1_mag_field[\"vo1_b_full[1]\"])\n",
    "voyager1_data = voyager1_data.assign(Bz = voyager1_mag_field[\"vo1_b_full[2]\"])\n",
    "voyager1_data = voyager1_data.to_csv(\"voyager1_data.csv\")"
   ]
  },
  {
   "cell_type": "markdown",
   "id": "013ca42e-11e4-48f8-9d35-2bd3fbb3a970",
   "metadata": {
    "jp-MarkdownHeadingCollapsed": true
   },
   "source": [
    "## Voyager 2"
   ]
  },
  {
   "cell_type": "code",
   "execution_count": null,
   "id": "0d778273-852e-43d6-a234-3c21f4e90813",
   "metadata": {},
   "outputs": [],
   "source": [
    "start_date = dt.datetime(2007, 3, 1, 0, 0, 0)\n",
    "end_date = dt.datetime(2009, 9, 1, 0, 0, 0)"
   ]
  },
  {
   "cell_type": "markdown",
   "id": "e57c72a0-39af-48ce-98d0-75cea04a9384",
   "metadata": {},
   "source": [
    "### Density against solar distance "
   ]
  },
  {
   "cell_type": "code",
   "execution_count": null,
   "id": "837a982f-1f7e-4084-bebd-7a96cd27a222",
   "metadata": {},
   "outputs": [],
   "source": [
    "voyager2_dist_sun = spz.amda.get_data(\"r_vo2\", start_date, end_date)\n",
    "voyager2_dist_sun = voyager2_dist_sun.to_dataframe()\n",
    "voyager2_density = spz.amda.get_data(\"vo2_dens_full\", start_date, end_date)\n",
    "voyager2_density = voyager2_density.to_dataframe()\n",
    "voyager2_velocity = spz.amda.get_data(\"vo2_vel_full\", start_date, end_date)\n",
    "voyager2_velocity = voyager2_velocity.to_dataframe()\n",
    "voyager2_temperature = spz.amda.get_data(\"vo2_temp_full\", start_date, end_date)\n",
    "voyager2_temperature = voyager2_temperature.to_dataframe()"
   ]
  },
  {
   "cell_type": "code",
   "execution_count": null,
   "id": "a8e77cfd-6c9a-466a-b41e-76b96969829c",
   "metadata": {},
   "outputs": [],
   "source": [
    "#Manipulate the dataframes to get them into a useable form\n",
    "voyager2_dist_sun.reset_index(inplace=True)\n",
    "voyager2_density.reset_index(inplace=True)\n",
    "voyager2_velocity.reset_index(inplace=True)\n",
    "voyager2_temperature.reset_index(inplace=True)\n",
    "voyager2_dist_sun = voyager2_dist_sun.rename(columns = {\"index\": \"Time\"})\n",
    "voyager2_density = voyager2_density.rename(columns = {\"index\": \"Time\"})\n",
    "voyager2_velocity = voyager2_velocity.rename(columns = {\"index\": \"Time\"})\n",
    "voyager2_temperature = voyager2_temperature.rename(columns = {\"index\": \"Time\"})\n",
    "voyager2_dist_sun[\"Time\"] = (pd.to_datetime(voyager2_dist_sun[\"Time\"])-start_date).dt.total_seconds()\n",
    "voyager2_density[\"Time\"] = (pd.to_datetime(voyager2_density[\"Time\"])-start_date).dt.total_seconds()\n",
    "voyager2_velocity[\"Time\"] = (pd.to_datetime(voyager2_velocity[\"Time\"])-start_date).dt.total_seconds()\n",
    "voyager2_temperature[\"Time\"] = (pd.to_datetime(voyager2_temperature[\"Time\"])-start_date).dt.total_seconds()\n",
    "voyager2_temperature = voyager2_temperature.assign(temp = lambda x: x[\"vo2_temp_full\"]*1.6*10**(-23)/(1.38*10**(-23)))\n",
    "print(voyager2_dist_sun.head())\n",
    "print(voyager2_density.head())"
   ]
  },
  {
   "cell_type": "code",
   "execution_count": null,
   "id": "1757c194-0da3-4290-836b-714eeb71ee8c",
   "metadata": {},
   "outputs": [],
   "source": [
    "print(voyager2_dist_sun.tail())\n",
    "print(voyager2_density.tail())\n",
    "print(voyager2_temperature.tail())"
   ]
  },
  {
   "cell_type": "code",
   "execution_count": null,
   "id": "22e4771c-d554-452f-8fa3-c87250d7e9ce",
   "metadata": {
    "scrolled": true
   },
   "outputs": [],
   "source": [
    "fig = plt.figure()\n",
    "plt.plot(voyager2_density[\"Time\"], voyager2_density[\"vo2_dens_full\"])\n",
    "plt.show()"
   ]
  },
  {
   "cell_type": "code",
   "execution_count": null,
   "id": "97a238ed-817d-44a8-964a-3bbc3aac4c60",
   "metadata": {},
   "outputs": [],
   "source": [
    "count = 14383\n",
    "interpolated_times = []\n",
    "while count <= 79034382:\n",
    "    interpolated_times.append(count)\n",
    "    count = count + 3598.381"
   ]
  },
  {
   "cell_type": "code",
   "execution_count": null,
   "id": "0e0c43b5-2e4b-4279-bdcf-dd5237801ff8",
   "metadata": {},
   "outputs": [],
   "source": [
    "#Interpolation\n",
    "interpolate_function = interpolate.interp1d(voyager2_dist_sun[\"Time\"], voyager2_dist_sun[\"r_vo2\"])\n",
    "interpolated_distances = interpolate_function(interpolated_times)"
   ]
  },
  {
   "cell_type": "code",
   "execution_count": null,
   "id": "23acadd3-5ae4-4112-b717-8882f0cb8c74",
   "metadata": {},
   "outputs": [],
   "source": [
    "ix = [0, 1, 2, 3, 4, 5, 736, 737, 738, 739, 740, 741, 742, 743]\n",
    "ixs = [730, 731, 732, 733, 734, 735, 736, 737, 738, 739, 740, 741, 742, 743]\n",
    "voyager2_density = voyager2_density.drop(index=ix)\n",
    "voyager2_velocity = voyager2_velocity.drop(index=ixs)\n",
    "voyager2_temperature = voyager2_temperature.drop(index=ixs)\n",
    "print(voyager2_density.tail())"
   ]
  },
  {
   "cell_type": "code",
   "execution_count": null,
   "id": "094d20b9-649a-4bcf-987e-f977950278ac",
   "metadata": {},
   "outputs": [],
   "source": [
    "fig = plt.figure()\n",
    "plt.plot(interpolated_distances, voyager2_density[\"vo2_dens_full\"])\n",
    "plt.plot(interpolated_distances, theoretical_density(interpolated_distances))\n",
    "plt.legend([\"Satellite Data\", \"Theoretical Prediction\"])\n",
    "plt.ylabel(\"Number density (cm^-3)\")\n",
    "plt.xlabel(\"Distance from the Sun (AU)\")\n",
    "plt.show()"
   ]
  },
  {
   "cell_type": "code",
   "execution_count": null,
   "id": "822ab5ec-e175-4364-ad32-0585911f909f",
   "metadata": {},
   "outputs": [],
   "source": [
    "fig = plt.figure()\n",
    "plt.plot(voyager2_dist_sun[\"Time\"], voyager2_dist_sun[\"r_vo2\"])\n",
    "plt.show()"
   ]
  },
  {
   "cell_type": "code",
   "execution_count": null,
   "id": "9deec435-0486-45dd-8b0e-53ac217eab61",
   "metadata": {},
   "outputs": [],
   "source": [
    "fig = plt.figure()\n",
    "plt.plot(interpolated_distances, voyager2_velocity[\"vo2_vel_full\"])\n",
    "plt.plot(interpolated_distances, theoretical_velocity(interpolated_distances))\n",
    "plt.legend([\"Satellite Data\", \"Theoretical Prediction\"])\n",
    "plt.ylabel(\"Velocity (km/s)\")\n",
    "plt.xlabel(\"Distance from the Sun (AU)\")\n",
    "plt.show()"
   ]
  },
  {
   "cell_type": "code",
   "execution_count": null,
   "id": "9586cd40-2f88-42a9-b6ec-9affd3fb0897",
   "metadata": {},
   "outputs": [],
   "source": [
    "plt.plot(interpolated_distances, voyager2_temperature[\"temp\"])\n",
    "plt.plot(interpolated_distances, theoretical_temperature(interpolated_distances))\n",
    "plt.xlabel(\"Distance from the Sun (AU)\")\n",
    "plt.ylabel(\"Temperature (K)\")\n",
    "plt.show()"
   ]
  },
  {
   "cell_type": "code",
   "execution_count": null,
   "id": "cfe3d562-c87f-44d1-90d0-2ba33cc24af4",
   "metadata": {},
   "outputs": [],
   "source": [
    "voyager2_distances = {\"distance\": interpolated_distances}\n",
    "voyager2_data = pd.DataFrame(voyager2_distances)\n",
    "voyager2_data = voyager2_data.assign(density = voyager2_density[\"vo2_dens_full\"])\n",
    "voyager2_data = voyager2_data.assign(vmag = voyager2_velocity[\"vo2_vel_full\"])\n",
    "voyager2_data = voyager2_data.assign(temp = voyager2_temperature[\"temp\"])\n",
    "voyager2_data = voyager2_data.to_csv(\"voyager2_data.csv\")"
   ]
  },
  {
   "cell_type": "code",
   "execution_count": null,
   "id": "d4ebca6e-8494-45ef-8846-e6eafaf219a4",
   "metadata": {},
   "outputs": [],
   "source": [
    "start_date = dt.datetime(2008, 5, 1, 0, 0, 0)\n",
    "end_date = dt.datetime(2009, 6, 1, 0, 0, 0)"
   ]
  },
  {
   "cell_type": "code",
   "execution_count": null,
   "id": "383dc027-80d7-48ea-bff1-83486257e79b",
   "metadata": {},
   "outputs": [],
   "source": [
    "cassini_dist_sat = spz.amda.get_data(\"cass_r_sat_1m\", start_date, end_date)\n",
    "cassini_dist_sat = cassini_dist_sat.to_dataframe()\n",
    "cassini_density = spz.amda.get_data(\"cass_caps_n_p\", start_date, end_date)\n",
    "cassini_density = cassini_density.to_dataframe()"
   ]
  },
  {
   "cell_type": "code",
   "execution_count": null,
   "id": "aebe1949-c0f8-49a1-9b8e-47145484327f",
   "metadata": {},
   "outputs": [],
   "source": [
    "cassini_dist_sat.reset_index(inplace=True)\n",
    "cassini_density.reset_index(inplace=True)\n",
    "cassini_dist_sat = cassini_dist_sat.rename(columns = {\"index\": \"Time\"})\n",
    "cassini_density = cassini_density.rename(columns = {\"index\": \"Time\"})\n",
    "cassini_dist_sat[\"Time\"] = (pd.to_datetime(cassini_dist_sat[\"Time\"])-start_date).dt.total_seconds()\n",
    "cassini_density[\"Time\"] = (pd.to_datetime(cassini_density[\"Time\"])-start_date).dt.total_seconds()\n",
    "print(cassini_dist_sat.head())"
   ]
  },
  {
   "cell_type": "code",
   "execution_count": null,
   "id": "690380d8-1626-40c7-afcf-bcc1604eb9d5",
   "metadata": {},
   "outputs": [],
   "source": [
    "fig = plt.figure()\n",
    "plt.scatter(cassini_dist_sat[\"Time\"], cassini_dist_sat[\"cass_r_sat_1m\"], s=0.5)\n",
    "plt.show()"
   ]
  },
  {
   "cell_type": "code",
   "execution_count": null,
   "id": "7c060d9b-0bfe-414b-a5f7-9b47b7e9423a",
   "metadata": {},
   "outputs": [],
   "source": [
    "cassini_space_indexes = cassini_dist_sat.index[cassini_dist_sat[\"cass_r_sat_1m\"] >= 20].to_list()\n",
    "cassini_dist_space = cassini_dist_sat.filter(items = cassini_space_indexes, axis=0)\n",
    "#cassini_density = cassini_density.filter(items = cassini_space_indexes, axis=0)"
   ]
  },
  {
   "cell_type": "code",
   "execution_count": null,
   "id": "6328e685-3110-4410-8771-0d0143fda054",
   "metadata": {
    "scrolled": true
   },
   "outputs": [],
   "source": [
    "fig = plt.figure()\n",
    "plt.scatter(cassini_dist_space[\"Time\"], cassini_dist_space[\"cass_r_sat_1m\"], s=0.5)\n",
    "plt.show()"
   ]
  },
  {
   "cell_type": "code",
   "execution_count": null,
   "id": "6eeee090-0289-4398-8239-e7597feae871",
   "metadata": {},
   "outputs": [],
   "source": []
  },
  {
   "cell_type": "code",
   "execution_count": null,
   "id": "57ac6e5e-4d4c-4cf6-b030-9c7a982a8532",
   "metadata": {},
   "outputs": [],
   "source": [
    "print(cassini_dist_space.tail())\n",
    "print(cassini_density.tail())\n",
    "fig = plt.figure()\n",
    "plt.scatter(cassini_density[\"Time\"], cassini_density[\"cass_caps_n_p\"], s=0.5)\n",
    "plt.show()"
   ]
  },
  {
   "cell_type": "code",
   "execution_count": null,
   "id": "59b80bcd-d797-4b0f-a950-ffe585cefe1f",
   "metadata": {},
   "outputs": [],
   "source": [
    "fig = plt.figure()\n",
    "plt.scatter(cassini_dist_space[\"cass_r_sat_1m\"], cassini_density[\"cass_caps_n_p\"])\n",
    "plt.show()"
   ]
  },
  {
   "cell_type": "markdown",
   "id": "3c6ead27-784a-4bd1-b576-880aa3962a40",
   "metadata": {},
   "source": [
    "### Creating Coordinate Frame for Jupiter"
   ]
  },
  {
   "cell_type": "code",
   "execution_count": null,
   "id": "f225a49f-01b4-4689-9338-47476e57424a",
   "metadata": {},
   "outputs": [],
   "source": [
    "from astropy.coordinates.baseframe import BaseCoordinateFrame\n",
    "from astropy.coordinates import frame_transform_graph, SkyCoord\n",
    "from astropy.coordinates import BaseGeodeticRepresentation, PhysicsSphericalRepresentation\n",
    "from astropy import units as u\n",
    "from astropy.coordinates  import solar_system_ephemeris\n",
    "\n",
    "class JupiterSphere(BaseGeodeticRepresentation):\n",
    "    equatorial_radius = 71492 * u.km\n",
    "    flattening = 0.0649 * u.percent\n",
    "    name = \"Jupiter\"\n",
    "    default_representation = PhysicsSphericalRepresentation"
   ]
  },
  {
   "cell_type": "code",
   "execution_count": null,
   "id": "fbb463c1-17fd-4420-b6a2-abdb0235f312",
   "metadata": {},
   "outputs": [],
   "source": [
    "start_date = dt.datetime(1996, 1, 1, 0, 0, 0)\n",
    "end_date = dt.datetime(1996, 3, 1, 0, 0, 0)"
   ]
  },
  {
   "cell_type": "code",
   "execution_count": null,
   "id": "e94decce-9561-4327-be59-a65f3fd414ed",
   "metadata": {},
   "outputs": [],
   "source": [
    "galileo_dist_sun = spz.amda.get_data(\"gll_r_jup\", start_date, end_date)\n",
    "galileo_dist_sun = galileo_dist_sun.to_dataframe()"
   ]
  },
  {
   "cell_type": "code",
   "execution_count": null,
   "id": "fc0f8a5b-b7d6-4e88-a9ff-e1b9b17cabb0",
   "metadata": {},
   "outputs": [],
   "source": [
    "galileo_dist_sun.reset_index(inplace=True)\n",
    "galileo_dist_sun = galileo_dist_sun.rename(columns = {\"index\": \"Time\"})"
   ]
  },
  {
   "cell_type": "code",
   "execution_count": null,
   "id": "c406afc3-930e-417e-a915-84fcf901c3c7",
   "metadata": {},
   "outputs": [],
   "source": [
    "fig = plt.figure()\n",
    "plt.plot(galileo_dist_sun[\"Time\"], galileo_dist_sun[\"gll_r_jup\"])\n",
    "plt.show()"
   ]
  },
  {
   "cell_type": "markdown",
   "id": "5fbf05b5-2259-4683-957f-7c3744be2bae",
   "metadata": {
    "jp-MarkdownHeadingCollapsed": true
   },
   "source": [
    "## Ulyssess"
   ]
  },
  {
   "cell_type": "code",
   "execution_count": null,
   "id": "9e06b603-a64f-4598-9f7a-f8ac9fe918d7",
   "metadata": {},
   "outputs": [],
   "source": [
    "#1996 solar minimum dates\n",
    "start_date = dt.datetime(1996, 2, 1, 0, 0, 0)\n",
    "end_date = dt.datetime(1997, 3, 1, 0, 0, 0)"
   ]
  },
  {
   "cell_type": "code",
   "execution_count": null,
   "id": "535af5d4-11f5-4139-bea9-5b8084528d34",
   "metadata": {},
   "outputs": [],
   "source": [
    "ulysses_1996_dist_sun = spz.get_data(amda_tree.Parameters.Ulysses.Ephemeris.ulys_orb_all.ulys_carr_r, start_date, end_date)\n",
    "ulysses_1996_dist_sun = ulysses_1996_dist_sun.to_dataframe()\n",
    "ulysses_1996_density = spz.amda.get_data(\"n_p_ulys\", start_date, end_date)\n",
    "ulysses_1996_density = ulysses_1996_density.to_dataframe()\n",
    "ulysses_1996_velocity = spz.amda.get_data(\"v_ulys_rtn\", start_date, end_date)\n",
    "ulysses_1996_velocity = ulysses_1996_velocity.to_dataframe()\n",
    "ulysses_1996_temperature = spz.amda.get_data(\"tp_ulys\", start_date, end_date)\n",
    "ulysses_1996_temperature = ulysses_1996_temperature.to_dataframe()\n",
    "ulysses_1996_mag_field = spz.amda.get_data(\"b_ulys_rtn\", start_date, end_date)\n",
    "ulysses_1996_mag_field = ulysses_1996_mag_field.to_dataframe()"
   ]
  },
  {
   "cell_type": "code",
   "execution_count": null,
   "id": "7dcb2f66-abf9-499a-86da-3172df0c1752",
   "metadata": {},
   "outputs": [],
   "source": [
    "start_date = dt.datetime(2007, 3, 1, 0, 0, 0)\n",
    "end_date = dt.datetime(2008, 3, 1, 0, 0, 0)"
   ]
  },
  {
   "cell_type": "code",
   "execution_count": null,
   "id": "8ef1252f-a4d4-446a-bc6a-e8dd6b0d8d80",
   "metadata": {
    "scrolled": true
   },
   "outputs": [],
   "source": [
    "ulysses_2007_dist_sun = spz.get_data(amda_tree.Parameters.Ulysses.Ephemeris.ulys_orb_all.ulys_carr_r, start_date, end_date)\n",
    "ulysses_2007_dist_sun = ulysses_2007_dist_sun.to_dataframe()\n",
    "ulysses_2007_density = spz.amda.get_data(\"n_p_ulys\", start_date, end_date)\n",
    "ulysses_2007_density = ulysses_2007_density.to_dataframe()\n",
    "ulysses_2007_velocity = spz.amda.get_data(\"v_ulys_rtn\", start_date, end_date)\n",
    "ulysses_2007_velocity = ulysses_2007_velocity.to_dataframe()\n",
    "ulysses_2007_temperature = spz.amda.get_data(\"tp_ulys\", start_date, end_date)\n",
    "ulysses_2007_temperature = ulysses_2007_temperature.to_dataframe()\n",
    "ulysses_2007_mag_field = spz.amda.get_data(\"b_ulys_rtn\", start_date, end_date)\n",
    "ulysses_2007_mag_field = ulysses_2007_mag_field.to_dataframe()"
   ]
  },
  {
   "cell_type": "code",
   "execution_count": null,
   "id": "39c9a008-f197-4163-abdc-24fd55234324",
   "metadata": {},
   "outputs": [],
   "source": [
    "start_date = dt.datetime(2008, 3, 1, 0, 0, 0)\n",
    "end_date = dt.datetime(2009, 3, 1, 0, 0, 0)"
   ]
  },
  {
   "cell_type": "code",
   "execution_count": null,
   "id": "b93f5c6b-7afb-482a-97f5-ba0c48801787",
   "metadata": {},
   "outputs": [],
   "source": [
    "ulysses_2008_dist_sun = spz.get_data(amda_tree.Parameters.Ulysses.Ephemeris.ulys_orb_all.ulys_carr_r, start_date, end_date)\n",
    "ulysses_2008_dist_sun = ulysses_2008_dist_sun.to_dataframe()\n",
    "ulysses_2008_density = spz.amda.get_data(\"n_p_ulys\", start_date, end_date)\n",
    "ulysses_2008_density = ulysses_2008_density.to_dataframe()\n",
    "ulysses_2008_velocity = spz.amda.get_data(\"v_ulys_rtn\", start_date, end_date)\n",
    "ulysses_2008_velocity = ulysses_2008_velocity.to_dataframe()\n",
    "ulysses_2008_temperature = spz.amda.get_data(\"tp_ulys\", start_date, end_date)\n",
    "ulysses_2008_temperature = ulysses_2008_temperature.to_dataframe()\n",
    "ulysses_2008_mag_field = spz.amda.get_data(\"b_ulys_rtn\", start_date, end_date)\n",
    "ulysses_2008_mag_field = ulysses_2008_mag_field.to_dataframe()"
   ]
  },
  {
   "cell_type": "code",
   "execution_count": null,
   "id": "a9c91f13-f737-49e0-88f0-2a54d6374d5d",
   "metadata": {},
   "outputs": [],
   "source": [
    "start_date = dt.datetime(2009, 3, 1, 0, 0, 0)\n",
    "end_date = dt.datetime(2009, 9, 1, 0, 0, 0)"
   ]
  },
  {
   "cell_type": "code",
   "execution_count": null,
   "id": "e9d52ec3-a858-4af9-a98c-04a23ed8f6a6",
   "metadata": {},
   "outputs": [],
   "source": [
    "ulysses_2009_dist_sun = spz.get_data(amda_tree.Parameters.Ulysses.Ephemeris.ulys_orb_all.ulys_carr_r, start_date, end_date)\n",
    "ulysses_2009_dist_sun = ulysses_2009_dist_sun.to_dataframe()\n",
    "ulysses_2009_density = spz.amda.get_data(\"n_p_ulys\", start_date, end_date)\n",
    "ulysses_2009_density = ulysses_2009_density.to_dataframe()\n",
    "ulysses_2009_velocity = spz.amda.get_data(\"v_ulys_rtn\", start_date, end_date)\n",
    "ulysses_2009_velocity = ulysses_2009_velocity.to_dataframe()\n",
    "ulysses_2009_temperature = spz.amda.get_data(\"tp_ulys\", start_date, end_date)\n",
    "ulysses_2009_temperature = ulysses_2009_temperature.to_dataframe()\n",
    "ulysses_2009_mag_field = spz.amda.get_data(\"b_ulys_rtn\", start_date, end_date)\n",
    "ulysses_2009_mag_field = ulysses_2009_mag_field.to_dataframe()"
   ]
  },
  {
   "cell_type": "code",
   "execution_count": null,
   "id": "962cfc55-52a9-4721-b524-b63a27204136",
   "metadata": {},
   "outputs": [],
   "source": [
    "ulysses_2007_9_dist_sun = pd.concat([ulysses_2007_dist_sun, ulysses_2008_dist_sun, ulysses_2009_dist_sun])\n",
    "ulysses_2007_9_density = pd.concat([ulysses_2007_density, ulysses_2008_density, ulysses_2009_density])\n",
    "ulysses_2007_9_velocity = pd.concat([ulysses_2007_velocity, ulysses_2008_velocity, ulysses_2009_velocity])\n",
    "ulysses_2007_9_temperature = pd.concat([ulysses_2007_temperature, ulysses_2008_temperature, ulysses_2009_temperature])\n",
    "ulysses_2007_9_mag_field = pd.concat([ulysses_2007_mag_field, ulysses_2008_mag_field, ulysses_2009_mag_field])"
   ]
  },
  {
   "cell_type": "code",
   "execution_count": null,
   "id": "c17a942b-511f-45c7-a934-2860af48d925",
   "metadata": {},
   "outputs": [],
   "source": [
    "ulysses_temperature.head()"
   ]
  },
  {
   "cell_type": "code",
   "execution_count": null,
   "id": "cec7e593-2a13-4d54-8960-2045f0b33328",
   "metadata": {},
   "outputs": [],
   "source": [
    "ulysses_dist_sun = pd.concat([ulysses_1996_dist_sun, ulysses_2007_9_dist_sun])\n",
    "ulysses_density = pd.concat([ulysses_1996_density, ulysses_2007_9_density])\n",
    "ulysses_velocity = pd.concat([ulysses_1996_velocity, ulysses_2007_9_velocity])\n",
    "ulysses_temperature = pd.concat([ulysses_1996_temperature, ulysses_2007_9_temperature])\n",
    "ulysses_mag_field = pd.concat([ulysses_1996_mag_field, ulysses_2007_9_mag_field])"
   ]
  },
  {
   "cell_type": "code",
   "execution_count": null,
   "id": "2a509aeb-77d2-4461-8a8a-a4ce2cbf76b3",
   "metadata": {},
   "outputs": [],
   "source": [
    "#Manipulate the dataframes to get them into a useable form\n",
    "start_date = dt.datetime(1996, 2, 1, 0, 0, 0)\n",
    "end_date = dt.datetime(1997, 3, 1, 0, 0, 0)\n",
    "ulysses_dist_sun.reset_index(inplace=True)\n",
    "ulysses_density.reset_index(inplace=True)\n",
    "ulysses_velocity.reset_index(inplace=True)\n",
    "ulysses_temperature.reset_index(inplace=True)\n",
    "ulysses_mag_field.reset_index(inplace=True)\n",
    "ulysses_dist_sun = ulysses_dist_sun.rename(columns = {\"index\": \"Time\"})\n",
    "ulysses_density = ulysses_density.rename(columns = {\"index\": \"Time\"})\n",
    "ulysses_velocity = ulysses_velocity.rename(columns = {\"index\": \"Time\"})\n",
    "ulysses_temperature = ulysses_temperature.rename(columns = {\"index\": \"Time\"})\n",
    "ulysses_mag_field = ulysses_mag_field.rename(columns = {\"index\": \"Time\"})\n",
    "ulysses_dist_sun[\"Time\"] = (pd.to_datetime(ulysses_dist_sun[\"Time\"])-start_date).dt.total_seconds()\n",
    "ulysses_density[\"Time\"] = (pd.to_datetime(ulysses_density[\"Time\"])-start_date).dt.total_seconds()\n",
    "ulysses_velocity[\"Time\"] = (pd.to_datetime(ulysses_velocity[\"Time\"])-start_date).dt.total_seconds()\n",
    "ulysses_temperature[\"Time\"] = (pd.to_datetime(ulysses_temperature[\"Time\"])-start_date).dt.total_seconds()\n",
    "ulysses_mag_field[\"Time\"] = (pd.to_datetime(ulysses_mag_field[\"Time\"])-start_date).dt.total_seconds()\n",
    "ulysses_velocity = ulysses_velocity.assign(vmag = lambda x: np.sqrt(x[\"vr\"]**2 + x[\"vt\"]**2 + x[\"vn\"]**2))\n",
    "ulysses_temperature = ulysses_temperature.assign(temp_large=lambda x: (x[\"t_large\"]*1.6*10**(-19))/(1.38*10**(-23)))\n",
    "ulysses_temperature = ulysses_temperature.assign(temp_small=lambda x: (x[\"t_small\"]*1.6*10**(-19))/(1.38*10**(-23)))\n",
    "ulysses_temperature = ulysses_temperature.assign(temp=lambda x: (x[\"temp_large\"]+x[\"temp_small\"])/2)"
   ]
  },
  {
   "cell_type": "code",
   "execution_count": null,
   "id": "fb849612-37ac-419b-9ac9-977e4097913d",
   "metadata": {},
   "outputs": [],
   "source": [
    "print(ulysses_dist_sun.head())\n",
    "print(ulysses_density.head())"
   ]
  },
  {
   "cell_type": "code",
   "execution_count": null,
   "id": "51ad3775-fd1e-4e46-b30c-b82dfb14f8e0",
   "metadata": {},
   "outputs": [],
   "source": [
    "print(ulysses_dist_sun.tail())\n",
    "print(ulysses_density.tail())\n",
    "print(ulysses_velocity.tail())\n",
    "print(ulysses_temperature.head())"
   ]
  },
  {
   "cell_type": "code",
   "execution_count": null,
   "id": "1716a039-475d-4c3c-913f-5dd26ca56a94",
   "metadata": {
    "scrolled": true
   },
   "outputs": [],
   "source": [
    "fig = plt.figure()\n",
    "plt.plot(ulysses_dist_sun[\"Time\"], ulysses_dist_sun[\"distance ulys-sun\"])\n",
    "plt.show()"
   ]
  },
  {
   "cell_type": "code",
   "execution_count": null,
   "id": "3eddd75c-33fd-42af-bb50-362b4c619742",
   "metadata": {},
   "outputs": [],
   "source": [
    "count = 294\n",
    "interpolated_times = []\n",
    "while count <= 428544000:\n",
    "    interpolated_times.append(count)\n",
    "    count = count + 8.2420768"
   ]
  },
  {
   "cell_type": "code",
   "execution_count": null,
   "id": "70556e9f-577f-494a-a3cf-6548e5a9bc78",
   "metadata": {},
   "outputs": [],
   "source": [
    "#Interpolation\n",
    "interpolate_function_dist = interpolate.interp1d(ulysses_dist_sun[\"Time\"], ulysses_dist_sun[\"distance ulys-sun\"])\n",
    "interpolated_distances = interpolate_function_dist(interpolated_times)\n",
    "interpolate_function_den = interpolate.interp1d(ulysses_density[\"Time\"], ulysses_density[\"density h+\"])\n",
    "interpolated_densities = interpolate_function_den(interpolated_times)\n",
    "interpolate_function_vel = interpolate.interp1d(ulysses_velocity[\"Time\"], ulysses_velocity[\"vmag\"])\n",
    "interpolated_velocities = interpolate_function_vel(interpolated_times)\n",
    "interpolate_function_temp = interpolate.interp1d(ulysses_temperature[\"Time\"], ulysses_temperature[\"temp\"])\n",
    "interpolated_temperatures = interpolate_function_temp(interpolated_times)"
   ]
  },
  {
   "cell_type": "code",
   "execution_count": null,
   "id": "98ab6c3a-eefc-4a39-b326-0436163d906d",
   "metadata": {},
   "outputs": [],
   "source": [
    "fig = plt.figure()\n",
    "plt.scatter(interpolated_distances, interpolated_densities, s=0.2)\n",
    "plt.scatter(interpolated_distances, theoretical_density(interpolated_distances))\n",
    "plt.ylabel(\"Number density (cm^-3)\")\n",
    "plt.xlabel(\"Distance from the Sun (AU)\")\n",
    "plt.show()"
   ]
  },
  {
   "cell_type": "code",
   "execution_count": null,
   "id": "e71c75a4-bb2d-438c-ae19-fadb31b34fc9",
   "metadata": {
    "scrolled": true
   },
   "outputs": [],
   "source": [
    "fig = plt.figure()\n",
    "plt.scatter(interpolated_distances, interpolated_velocities, s=0.2)\n",
    "plt.scatter(interpolated_distances, theoretical_velocity(interpolated_distances))\n",
    "plt.ylabel(\"Magnitude of the Velocity (km/s)\")\n",
    "plt.xlabel(\"Distance from the Sun (AU)\")\n",
    "plt.show()"
   ]
  },
  {
   "cell_type": "code",
   "execution_count": null,
   "id": "6dadde53-05c0-42ae-b79d-57d356268c59",
   "metadata": {
    "scrolled": true
   },
   "outputs": [],
   "source": [
    "plt.scatter(interpolated_distances, interpolated_temperatures, s=0.2)\n",
    "plt.scatter(interpolated_distances, theoretical_temperature(interpolated_distances), color=\"orange\")\n",
    "plt.xlabel(\"Distance from the Sun(AU)\")\n",
    "plt.ylabel(\"Temperature (K)\")\n",
    "plt.ylim([0, 2.5e6])\n",
    "plt.show()"
   ]
  },
  {
   "cell_type": "code",
   "execution_count": null,
   "id": "ca255261-c01b-4e45-b33b-5df9650289ad",
   "metadata": {
    "scrolled": true
   },
   "outputs": [],
   "source": [
    "print(len(ulysses_mag_field[\"Time\"]))\n",
    "len(interpolated_distances)"
   ]
  },
  {
   "cell_type": "code",
   "execution_count": null,
   "id": "9dd9cf6a-34a3-48dd-a3fc-831fddbe736b",
   "metadata": {},
   "outputs": [],
   "source": [
    "plt.scatter(interpolated_distances, ulysses_mag_field[\"br\"], s=0.2)\n",
    "plt.xlabel(\"Distance from the Sun(AU)\")\n",
    "plt.ylabel(\"Bx (nT)\")\n",
    "plt.show()"
   ]
  },
  {
   "cell_type": "code",
   "execution_count": null,
   "id": "4e3dc9ac-9056-4aea-b0b0-5aebf7f935d1",
   "metadata": {},
   "outputs": [],
   "source": [
    "ulysses_distances = {\"distance\": interpolated_distances}\n",
    "ulysses_data = pd.DataFrame(ulysses_distances)\n",
    "ulysses_data = ulysses_data.assign(density = interpolated_densities)\n",
    "ulysses_data = ulysses_data.assign(vmag = interpolated_velocities)\n",
    "ulysses_data = ulysses_data.assign(temp = interpolated_temperatures)\n",
    "ulysses_data = ulysses_data.assign(Bx = ulysses_mag_field[\"br\"])\n",
    "ulysses_data = ulysses_data.assign(By = ulysses_mag_field[\"bt\"])\n",
    "ulysses_data = ulysses_data.assign(Bz = ulysses_mag_field[\"bn\"])\n",
    "ulysses_data = ulysses_data.to_csv(\"ulysses_data.csv\")"
   ]
  },
  {
   "cell_type": "markdown",
   "id": "40533ef8-c1b4-45c3-aef3-8b3d7af9a13a",
   "metadata": {},
   "source": [
    "# Combined plot"
   ]
  },
  {
   "cell_type": "code",
   "execution_count": null,
   "id": "bd5c7820-ad9f-4648-9366-01be5bf6ca7e",
   "metadata": {},
   "outputs": [],
   "source": [
    "ace_data = pd.read_csv(\"ace_data.csv\")\n",
    "ace_data = ace_data.drop(\"Unnamed: 0\", axis = 1)\n",
    "print(ace_data.head())"
   ]
  },
  {
   "cell_type": "code",
   "execution_count": null,
   "id": "46c600b5-2814-4da3-932e-294396d7215f",
   "metadata": {},
   "outputs": [],
   "source": [
    "dscovr_data = pd.read_csv(\"dscovr_data.csv\")\n",
    "dscovr_data = dscovr_data.drop(\"Unnamed: 0\", axis = 1)\n",
    "print(dscovr_data.head())"
   ]
  },
  {
   "cell_type": "code",
   "execution_count": null,
   "id": "add78293-58b7-4ae1-8a11-4e7c7788293c",
   "metadata": {},
   "outputs": [],
   "source": [
    "helios1_data = pd.read_csv(\"helios1_data.csv\")\n",
    "helios1_data = helios1_data.drop(\"Unnamed: 0\", axis = 1)\n",
    "print(helios1_data.head())"
   ]
  },
  {
   "cell_type": "code",
   "execution_count": null,
   "id": "2fbfb10c-c59d-4d75-a4e9-79645a41b83a",
   "metadata": {},
   "outputs": [],
   "source": [
    "psp_data = pd.read_csv(\"psp_data.csv\")\n",
    "psp_data = psp_data.drop(\"Unnamed: 0\", axis = 1)\n",
    "print(psp_data.head())"
   ]
  },
  {
   "cell_type": "code",
   "execution_count": null,
   "id": "061e5973-3969-4b35-b0b9-62b1f0bf94d3",
   "metadata": {},
   "outputs": [],
   "source": [
    "voyager1_data = pd.read_csv(\"voyager1_data.csv\")\n",
    "voyager1_data = voyager1_data.drop(\"Unnamed: 0\", axis = 1)\n",
    "print(voyager1_data.head())"
   ]
  },
  {
   "cell_type": "code",
   "execution_count": null,
   "id": "21473b74-0b34-4cbe-915b-9a5cb90ad51d",
   "metadata": {
    "scrolled": true
   },
   "outputs": [],
   "source": [
    "voyager2_data = pd.read_csv(\"voyager2_data.csv\")\n",
    "voyager2_data = voyager2_data.drop(\"Unnamed: 0\", axis = 1)\n",
    "print(voyager2_data.head())"
   ]
  },
  {
   "cell_type": "code",
   "execution_count": null,
   "id": "d97f0956-79f5-4232-a8d7-846075d48b95",
   "metadata": {},
   "outputs": [],
   "source": [
    "ulysses_data = pd.read_csv(\"ulysses_data.csv\")\n",
    "ulysses_data = ulysses_data.drop(\"Unnamed: 0\", axis = 1)\n",
    "print(ulysses_data.head())"
   ]
  },
  {
   "cell_type": "code",
   "execution_count": null,
   "id": "7dbc8027-3890-4d0f-b90a-396516539447",
   "metadata": {},
   "outputs": [],
   "source": [
    "combined_data = pd.DataFrame()\n",
    "combined_data = pd.concat([ace_data, dscovr_data, helios1_data, psp_data, voyager1_data, ulysses_data]) # Removed Voyager 2\n",
    "combined_data.reset_index(drop=True, inplace=True)"
   ]
  },
  {
   "cell_type": "code",
   "execution_count": null,
   "id": "ed286b51-4ef6-4c10-9877-86b4b86b7d31",
   "metadata": {},
   "outputs": [],
   "source": [
    "print(combined_data.head())"
   ]
  },
  {
   "cell_type": "code",
   "execution_count": null,
   "id": "45f7d720-b11b-454b-9aa4-a194f21ddb4c",
   "metadata": {
    "scrolled": true
   },
   "outputs": [],
   "source": [
    "plt.scatter(ulysses_data[\"distance\"], ulysses_data[\"vmag\"], s=0.2)\n",
    "#plt.scatter(combined_data[\"distance\"], theoretical_density(combined_data[\"distance\"]), color = \"orange\", s=0.5)\n",
    "plt.xlabel(\"Distance from the Sun (AU)\")\n",
    "plt.ylabel(\"Number density (cm^-3)\")\n",
    "plt.show()"
   ]
  },
  {
   "cell_type": "code",
   "execution_count": null,
   "id": "d1181bb6-6623-4985-956d-61e3f1e32f8a",
   "metadata": {
    "scrolled": true
   },
   "outputs": [],
   "source": [
    "plt.scatter(combined_data[\"distance\"], combined_data[\"vmag\"], s=0.5)\n",
    "plt.scatter(combined_data[\"distance\"], theoretical_velocity(combined_data[\"distance\"]), color = \"orange\", s=0.5)\n",
    "plt.xlabel(\"Distance from the Sun (AU)\")\n",
    "plt.ylabel(\"Magnitude of the velocity (km/s)\")\n",
    "plt.show()"
   ]
  },
  {
   "cell_type": "code",
   "execution_count": null,
   "id": "ddf42524-7daa-4ae5-90e8-f370fe5e6040",
   "metadata": {
    "scrolled": true
   },
   "outputs": [],
   "source": [
    "plt.scatter(combined_data[\"distance\"], combined_data[\"temp\"]/1e6, s=0.5)\n",
    "plt.scatter(combined_data[\"distance\"], theoretical_temperature(combined_data[\"distance\"])/1e6, color = \"orange\", s=0.005)\n",
    "plt.xlabel(\"Distance from the Sun (AU)\")\n",
    "plt.ylabel(\"Temperature (K)\")\n",
    "plt.yscale('log')\n",
    "plt.show()"
   ]
  },
  {
   "cell_type": "code",
   "execution_count": null,
   "id": "a07118ba-a6c9-4cdb-b841-53443db95307",
   "metadata": {},
   "outputs": [],
   "source": [
    "print(combined_data.head())"
   ]
  },
  {
   "cell_type": "markdown",
   "id": "4d5059a9-4342-46ee-a94b-9c6d5236f2da",
   "metadata": {},
   "source": [
    "# Velocity"
   ]
  },
  {
   "cell_type": "markdown",
   "id": "f14f20cd-68a5-483a-b6bb-110f9cd3cebb",
   "metadata": {},
   "source": [
    "## Solving v(r)"
   ]
  },
  {
   "cell_type": "code",
   "execution_count": null,
   "id": "93f3d26b-ca7b-43b0-b927-542ea5d35c97",
   "metadata": {},
   "outputs": [],
   "source": [
    "import scipy.integrate as sci\n",
    "import astropy.constants as ac\n",
    "import numpy as np\n",
    "import matplotlib.pyplot as plt"
   ]
  },
  {
   "cell_type": "code",
   "execution_count": null,
   "id": "6b62a91b-0268-4e9d-97f8-7a8d3f8a8311",
   "metadata": {},
   "outputs": [],
   "source": [
    "def rc_to_au(r):\n",
    "    return r*rc/AU\n",
    "def cs_to_kmps(v):\n",
    "    return v*cs/1e3"
   ]
  },
  {
   "cell_type": "code",
   "execution_count": null,
   "id": "ffd0dc51-46e4-4bd6-9b6d-877e2bbc0838",
   "metadata": {},
   "outputs": [],
   "source": [
    "#Constants\n",
    "G = ac.G.value\n",
    "Ms = ac.M_sun.value\n",
    "mp = ac.m_p.value\n",
    "kB = ac.k_B.value\n",
    "R_Jupiter = ac.R_jup.value\n",
    "R_Earth = ac.R_earth.value\n",
    "R_Sun = ac.R_sun.value\n",
    "AU = ac.au.value\n",
    "#Parameters\n",
    "T = 2e6\n",
    "\n",
    "#Quantities\n",
    "rc = G*Ms*mp/(4*kB*T); print(rc)\n",
    "cs = np.sqrt(2*kB*T/mp); print(f\"cs = {cs/1e3:0.0f} [km/s]\")\n"
   ]
  },
  {
   "cell_type": "code",
   "execution_count": null,
   "id": "a447fadf-087f-474d-bf32-d0d2b00931b9",
   "metadata": {},
   "outputs": [],
   "source": [
    "def dVdR(R, V):\n",
    "    return 2*V/R * ((1-1/R)/(V**2-1))"
   ]
  },
  {
   "cell_type": "markdown",
   "id": "011dffc8-26a3-4a70-ba47-e555f633b918",
   "metadata": {},
   "source": [
    "### Solution of v(r) between 1 and 5 AU"
   ]
  },
  {
   "cell_type": "code",
   "execution_count": null,
   "id": "9c189987-5f60-4910-aeb7-cdae1bf833be",
   "metadata": {},
   "outputs": [],
   "source": [
    "V0 = 400e3/cs\n",
    "R0 = 1.00*AU / rc\n",
    "RMAX = 5.00*AU / rc\n",
    "Rspan = (R0, RMAX)\n",
    "R_eval = np.linspace(R0, RMAX, 10000)\n",
    "sol_V_R = solve_ivp(dVdR, Rspan, [V0], t_eval=R_eval)"
   ]
  },
  {
   "cell_type": "code",
   "execution_count": null,
   "id": "6f0e45c2-b4ec-44f3-9ca6-aaaad9bdd06a",
   "metadata": {},
   "outputs": [],
   "source": [
    "R_1AU = sol_V_R['t']\n",
    "V_1AU = sol_V_R['y']"
   ]
  },
  {
   "cell_type": "code",
   "execution_count": null,
   "id": "85096290-bd31-41b0-9c64-d82ae1364fef",
   "metadata": {
    "scrolled": true
   },
   "outputs": [],
   "source": [
    "plt.plot(rc_to_au(R_1AU), cs_to_kmps(V_1AU[0]))\n",
    "plt.ylabel(\"Velocity (km/s)\")\n",
    "plt.xlabel(\"Solar Distance (AU)\")"
   ]
  },
  {
   "cell_type": "markdown",
   "id": "818b3a59-b199-4d94-ac25-81b847813d18",
   "metadata": {},
   "source": [
    "### Solution of v(r) from critical radius to 5 AU"
   ]
  },
  {
   "cell_type": "code",
   "execution_count": null,
   "id": "8c07de97-8650-4771-982b-aa4ead2fdf9e",
   "metadata": {},
   "outputs": [],
   "source": [
    "V0 = cs/cs + 0.001\n",
    "R0 = rc/rc + 0.001\n",
    "Rspan = (R0, (5*AU)/rc)\n",
    "R_eval = np.linspace(R0, (5*AU)/rc, 10000)\n",
    "sol_V_R = sci.solve_ivp(dVdR, Rspan, [V0], t_eval=R_eval)"
   ]
  },
  {
   "cell_type": "code",
   "execution_count": null,
   "id": "a762eff9-5203-4d28-96d3-f26e6406f394",
   "metadata": {},
   "outputs": [],
   "source": [
    "R_critical = sol_V_R['t']\n",
    "V_critical = sol_V_R['y']"
   ]
  },
  {
   "cell_type": "code",
   "execution_count": null,
   "id": "1baa9fc1-c41b-4170-b13b-9186f1c529b2",
   "metadata": {
    "scrolled": true
   },
   "outputs": [],
   "source": [
    "plt.plot(rc_to_au(R_critical), cs_to_kmps(V_critical[0]))\n",
    "plt.ylabel(\"Velocity (km/s)\")\n",
    "plt.xlabel(\"Solar Distance (AU)\")"
   ]
  },
  {
   "cell_type": "markdown",
   "id": "c25b401f-45f2-4d71-a3fc-82f434844dbc",
   "metadata": {},
   "source": [
    "## Velocity kNN"
   ]
  },
  {
   "cell_type": "code",
   "execution_count": null,
   "id": "b592bc2d-42d9-4414-be8c-485cef8c96f0",
   "metadata": {},
   "outputs": [],
   "source": [
    "combined_dist_vel = combined_data.filter(['distance', 'vmag']).dropna()\n",
    "X = combined_dist_vel[\"distance\"].dropna()\n",
    "y = combined_dist_vel[\"vmag\"].dropna()"
   ]
  },
  {
   "cell_type": "code",
   "execution_count": null,
   "id": "099fa495-ac82-469b-92b2-02286e346f65",
   "metadata": {},
   "outputs": [],
   "source": [
    "X_train, X_test, y_train, y_test = train_test_split(X, y, random_state=1, test_size=0.25)"
   ]
  },
  {
   "cell_type": "code",
   "execution_count": null,
   "id": "4f46fa8b-710f-4a18-b79a-1b660d9b9e63",
   "metadata": {},
   "outputs": [],
   "source": [
    "X_train = [[i] for i in X_train]\n",
    "X_test = [[i] for i in X_test]\n",
    "y_test = [[i] for i in y_test]\n",
    "y_train = [[i] for i in y_train]"
   ]
  },
  {
   "cell_type": "code",
   "execution_count": null,
   "id": "59dcb130-eb25-4bf0-acbf-1ea3f25982e1",
   "metadata": {},
   "outputs": [],
   "source": [
    "len(X_test)"
   ]
  },
  {
   "cell_type": "markdown",
   "id": "00400c12-1094-4f2b-a2ee-8ab0072a59f6",
   "metadata": {},
   "source": [
    "### Sklearn Velocity kNN"
   ]
  },
  {
   "cell_type": "code",
   "execution_count": null,
   "id": "8549e3a4-4b90-4853-a087-d5ee54780f56",
   "metadata": {},
   "outputs": [],
   "source": [
    "X_test = X_test[:-4]"
   ]
  },
  {
   "cell_type": "code",
   "execution_count": null,
   "id": "ab0c83f4-688d-443f-b23b-3256fe61dcc7",
   "metadata": {},
   "outputs": [],
   "source": [
    "len(X_test)"
   ]
  },
  {
   "cell_type": "code",
   "execution_count": null,
   "id": "3534277b-5159-4528-9064-1ba47ac995d5",
   "metadata": {
    "scrolled": true
   },
   "outputs": [],
   "source": [
    "#Defining a function to apply k-nearest neighbours to the training data.\n",
    "start = time.perf_counter()\n",
    "knn = neighbors.KNeighborsRegressor(5000, weights=\"distance\")\n",
    "knn.fit(np.array(X_train).astype(np.float32), np.array(y_train).astype(np.float32))\n",
    "split_X_train = np.array_split(X_test, 490)\n",
    "velocity_pred = []\n",
    "for distance in split_X_train:\n",
    "    distance = [r for r_list in distance.T for r in r_list]\n",
    "    distance = [[i] for i in distance]\n",
    "    velocity_pred.append(knn.predict(np.array(distance).astype(np.float32)))\n",
    "velocity_prediction = np.concatenate(velocity_pred)\n",
    "#y_pred = knn.predict(np.array(X_test).astype(np.float32))\n",
    "print(time.perf_counter()-start)"
   ]
  },
  {
   "cell_type": "code",
   "execution_count": null,
   "id": "2cf389ea-4424-4861-a485-3a8d6d9f639d",
   "metadata": {},
   "outputs": [],
   "source": [
    "velocity_prediction = [v for v_list in velocity_prediction.T for v in v_list]"
   ]
  },
  {
   "cell_type": "code",
   "execution_count": null,
   "id": "2789193f-e080-41ed-b45c-46aa089da861",
   "metadata": {},
   "outputs": [],
   "source": [
    "kNN_vel = pd.DataFrame({\"distance\":X_test, \"velocity\":velocity_prediction})\n",
    "kNN_vel = kNN_vel.to_csv(\"kNN_vel.csv\")"
   ]
  },
  {
   "cell_type": "markdown",
   "id": "849b2b4a-fac6-40b3-b25c-14ffdc955b4e",
   "metadata": {},
   "source": [
    "## Models"
   ]
  },
  {
   "cell_type": "code",
   "execution_count": null,
   "id": "0d8a884a-2679-43d3-9724-58580b68cf94",
   "metadata": {},
   "outputs": [],
   "source": [
    "# Köhnlein W (1996)\n",
    "a1 = 2.651\n",
    "a2 = 0\n",
    "a3 = -0.0239\n",
    "a4 = -1.836\n",
    "R = np.linspace(0.1, 4.9, 10000)\n",
    "def K_v(r):\n",
    "    return 10**(a1+a2*np.log(r)+a3*np.exp(a4*np.log(r)))"
   ]
  },
  {
   "cell_type": "code",
   "execution_count": null,
   "id": "38354e13-2f2a-4779-b645-0c2fac954ff5",
   "metadata": {},
   "outputs": [],
   "source": [
    "# Maruca BA et al (2023)\n",
    "alpha1 = 0.157\n",
    "alpha2 = 0.002\n",
    "r_a = 0.72\n",
    "R_initial = np.linspace(0.1, r_a, 874)\n",
    "R_final = np.linspace(r_a, 4.9, 9126)\n",
    "def M_v_i(r_initial):\n",
    "    return 412*r_initial**alpha1\n",
    "def M_v_f(r_final):\n",
    "    return 412*r_a**(alpha1-alpha2)*r_final**alpha2"
   ]
  },
  {
   "cell_type": "code",
   "execution_count": null,
   "id": "018080cd-651d-4690-8fb0-cfe023b3cc2e",
   "metadata": {},
   "outputs": [],
   "source": [
    "kNN_vel = pd.read_csv(\"knn_vel.csv\")"
   ]
  },
  {
   "cell_type": "code",
   "execution_count": null,
   "id": "2c39b52e-e2d7-45e3-bcfe-830e2343ef59",
   "metadata": {},
   "outputs": [],
   "source": [
    "len(kNN_vel[\"velocity\"])"
   ]
  },
  {
   "cell_type": "code",
   "execution_count": null,
   "id": "6433f453-1fbc-4c25-9f74-17fcb1505baf",
   "metadata": {
    "scrolled": true
   },
   "outputs": [],
   "source": [
    "#Plotting the regressed data for velocity\n",
    "plt.scatter(combined_data[\"distance\"], combined_data[\"vmag\"], color=\"orange\", s = 0.2)\n",
    "plt.scatter(kNN_vel[\"distance\"], kNN_vel[\"velocity\"], color=\"purple\", s = 0.2)\n",
    "plt.scatter(rc_to_au(R_1AU), cs_to_kmps(V_1AU[0]), color=\"g\", s=0.2)\n",
    "plt.scatter(rc_to_au(R_critical), cs_to_kmps(V_critical[0]), color=\"olive\", s=0.2)\n",
    "plt.scatter(R, K_v(R), color=\"b\", s=0.2)\n",
    "plt.scatter(R_initial, M_v_i(R_initial), color=\"c\", s=0.2)\n",
    "plt.scatter(R_final, M_v_f(R_final), color=\"c\", s=0.2)\n",
    "plt.xlabel(\"Solar distance (AU)\")\n",
    "plt.ylabel(\"Magnitude of the velocity (km/s)\")\n",
    "plt.legend([\"Satellite Data\",\"kNN\", \"Parker model from 1 AU\", \"Parker model from critical radius\", \"Köhnlein W (1996)\", \"Maruca BA et al (2023)\"],\n",
    "           markerscale=6, handletextpad=0.05, markerfirst=False, framealpha=0.5, loc=\"upper right\")\n",
    "plt.show()"
   ]
  },
  {
   "cell_type": "code",
   "execution_count": null,
   "id": "721a4edd-3875-4bb9-890f-652e82de9062",
   "metadata": {},
   "outputs": [],
   "source": [
    "#Plotting the regressed data for velocity\n",
    "plt.scatter(X_test, velocity_prediction, color=\"purple\", s = 0.2)\n",
    "plt.scatter(rc_to_au(R_1AU), cs_to_kmps(V_1AU[0]), color=\"g\", s=0.2)\n",
    "plt.scatter(rc_to_au(R_critical), cs_to_kmps(V_critical[0]), color=\"olive\", s=0.2)\n",
    "plt.scatter(R, K_v(R), color=\"pink\", s=0.2)\n",
    "plt.scatter(R_initial, M_v_i(R_initial), color=\"c\", s=0.2)\n",
    "plt.scatter(R_final, M_v_f(R_final), color=\"c\", s=0.2)\n",
    "plt.xlabel(\"Solar distance (AU)\")\n",
    "plt.ylabel(\"Magnitude of the velocity (km/s)\")\n",
    "plt.legend([\"Satellite Data\",\"kNN\", \"Parker model from 1 AU\", \"Parker model from critical radius\", \"Köhnlein W (1996)\", \"Maruca BA et al (2023)\"],\n",
    "           markerscale=6, handletextpad=0.05, markerfirst=False, framealpha=0.5)\n",
    "plt.show()"
   ]
  },
  {
   "cell_type": "code",
   "execution_count": null,
   "id": "5f735caa-772a-465b-a270-e141ea6bed12",
   "metadata": {},
   "outputs": [],
   "source": [
    "knn_v = [velocity_values for velocity_values_list in velocity_prediction for velocity_values in velocity_values_list]\n",
    "knn_R = [X_values for X_test_list in X_test for X_values in X_test_list]\n",
    "knn_interp_func = interpolate.interp1d(knn_R, knn_v)\n",
    "knn_interp = knn_interp_func(R)"
   ]
  },
  {
   "cell_type": "code",
   "execution_count": null,
   "id": "b0f91297-ee8b-49a9-a7ea-3b1fc8af34b4",
   "metadata": {
    "scrolled": true
   },
   "outputs": [],
   "source": [
    "np.corrcoef(knn_interp, K_v(R))"
   ]
  },
  {
   "cell_type": "code",
   "execution_count": null,
   "id": "9761aa68-419e-499e-9eb3-73f4905ba5c5",
   "metadata": {},
   "outputs": [],
   "source": [
    "np.corrcoef(knn_interp, cs_to_kmps(V_critical[0]))"
   ]
  },
  {
   "cell_type": "markdown",
   "id": "cf3a1dad-14fa-47b3-a263-5b9f247ffa58",
   "metadata": {},
   "source": [
    "# Density"
   ]
  },
  {
   "cell_type": "markdown",
   "id": "1692460e-c926-4c3f-bcf0-88850690f53e",
   "metadata": {},
   "source": [
    "## Solving n(r)"
   ]
  },
  {
   "cell_type": "code",
   "execution_count": null,
   "id": "f8f8cf75-ac5b-41f3-a7d2-ed33ebaf1f81",
   "metadata": {},
   "outputs": [],
   "source": [
    "import scipy.integrate as sci\n",
    "import astropy.constants as ac\n",
    "import numpy as np\n",
    "import matplotlib.pyplot as plt"
   ]
  },
  {
   "cell_type": "code",
   "execution_count": null,
   "id": "60635c90-1579-41eb-ac45-1c476d5514f1",
   "metadata": {
    "scrolled": true
   },
   "outputs": [],
   "source": [
    "#Constants\n",
    "AU = ac.au.value\n",
    "G = ac.G.value\n",
    "Ms = ac.M_sun.value\n",
    "mp = ac.m_p.value\n",
    "kB = ac.k_B.value\n",
    "#Parameters\n",
    "T = 2e6\n",
    "v0 = 1.001\n",
    "N0 = 1e8\n",
    "nc = 5e6\n",
    "\n",
    "#Quantities\n",
    "rc = G*Ms*mp/(4*kB*T); print(f\"rc = {rc/ac.R_sun.value:0.2f} R_sun\")\n",
    "cs = np.sqrt(2*kB*T/mp); print(f\"cs = {cs/1e3:0.0f} [km/s]\")"
   ]
  },
  {
   "cell_type": "code",
   "execution_count": null,
   "id": "c30c6811-f782-43f5-b466-123695f049c8",
   "metadata": {},
   "outputs": [],
   "source": [
    "R_critical = np.linspace(7e8/AU, 5, 10000)\n",
    "r_1AU = np.linspace(1, 5, 10000)"
   ]
  },
  {
   "cell_type": "code",
   "execution_count": null,
   "id": "d0ee7376-5b29-4c51-a1ba-e93f402a689f",
   "metadata": {},
   "outputs": [],
   "source": [
    "#Clement's suggestion:\n",
    "def n1(r, V):\n",
    "    return nc * (1/r)**2 / V"
   ]
  },
  {
   "cell_type": "code",
   "execution_count": null,
   "id": "254391be-7698-4455-9327-7369aec4fe5f",
   "metadata": {},
   "outputs": [],
   "source": [
    "plt.plot(R, n1(R_1AU, V_1AU[0]))\n",
    "plt.plot(R, n1(R, V_critical[0]))\n",
    "plt.ylabel(\"Number density (cm^-3)\")\n",
    "plt.yscale('log')\n",
    "plt.xlabel(\"Solar Distance (AU)\")"
   ]
  },
  {
   "cell_type": "markdown",
   "id": "3c9d8857-43ef-4db5-bc32-997eded593bb",
   "metadata": {},
   "source": [
    "## Density kNN"
   ]
  },
  {
   "cell_type": "code",
   "execution_count": null,
   "id": "63c915ce-9f20-493b-acf2-9c2dde686cdb",
   "metadata": {},
   "outputs": [],
   "source": [
    "combined_dist_den = combined_data.filter(['distance', 'density']).dropna()\n",
    "X = combined_dist_den[\"distance\"]\n",
    "y = combined_dist_den[\"density\"]"
   ]
  },
  {
   "cell_type": "code",
   "execution_count": null,
   "id": "b744b91d-3749-4655-9363-2e16407d751e",
   "metadata": {
    "scrolled": true
   },
   "outputs": [],
   "source": [
    "combined_dist_den.describe()"
   ]
  },
  {
   "cell_type": "code",
   "execution_count": null,
   "id": "20c80bb2-8a59-4096-bd11-49483c206610",
   "metadata": {},
   "outputs": [],
   "source": [
    "X_train, X_test, y_train, y_test = train_test_split(np.array(X).astype(np.float32), np.array(y).astype(np.float32), random_state=1, test_size=0.5)"
   ]
  },
  {
   "cell_type": "code",
   "execution_count": null,
   "id": "285a1643-11ac-410f-a4e2-54c60c0c857b",
   "metadata": {},
   "outputs": [],
   "source": [
    "X_train = [[i] for i in X_train]\n",
    "X_test = [[i] for i in X_test]\n",
    "y_test = [[i] for i in y_test]\n",
    "y_train = [[i] for i in y_train]"
   ]
  },
  {
   "cell_type": "code",
   "execution_count": null,
   "id": "047fe5ed-1563-4ca7-8331-72d0b2bd0f61",
   "metadata": {
    "scrolled": true
   },
   "outputs": [],
   "source": [
    "#Defining a function to apply k-nearest neighbours to the training data.\n",
    "start = time.perf_counter()\n",
    "knn = neighbors.KNeighborsRegressor(5000, weights=\"distance\")\n",
    "knn.fit(np.array(X_train).astype(np.float32), np.array(y_train).astype(np.float32))\n",
    "split_X_train = np.array_split(X_test,490)\n",
    "density_pred = []\n",
    "for distance in split_X_train:\n",
    "    distance = [r for r_list in distance.T for r in r_list]\n",
    "    distance = [[i] for i in distance]\n",
    "    density_pred.append(knn.predict(distance).astype(np.float32))\n",
    "density_prediction = np.concatenate(density_pred)\n",
    "#y_pred = knn.predict(np.array(X_test).astype(np.float32))\n",
    "print(time.perf_counter()-start)"
   ]
  },
  {
   "cell_type": "code",
   "execution_count": null,
   "id": "a6dffdae-5afa-481f-b7bf-33f17c9f3170",
   "metadata": {},
   "outputs": [],
   "source": [
    "density_prediction = [n for n_list in density_prediction.T for n in n_list]"
   ]
  },
  {
   "cell_type": "code",
   "execution_count": null,
   "id": "cf543f0d-3ace-433e-9ab9-5d230d8c0654",
   "metadata": {},
   "outputs": [],
   "source": [
    "kNN_den = pd.DataFrame({\"distance\":X_test, \"density\":density_prediction})\n",
    "kNN_den = kNN_den.to_csv(\"kNN_den.csv\")"
   ]
  },
  {
   "cell_type": "markdown",
   "id": "6a026308-32f3-4f25-a24e-d8804f111ba1",
   "metadata": {},
   "source": [
    "## Models"
   ]
  },
  {
   "cell_type": "code",
   "execution_count": null,
   "id": "90ac5e0d-aa86-4b24-93cc-ad6b37204e7e",
   "metadata": {},
   "outputs": [],
   "source": [
    "# Köhnlein W (1996)\n",
    "a1 = 0.7766\n",
    "a2 = -1.934\n",
    "a3 = 0.01823\n",
    "a4 = -2.245\n",
    "\n",
    "R_ = np.linspace(0.1, 4.9, 10000)\n",
    "def K_n(r):\n",
    "    return 10**(a1+a2*np.log(r)+a3*np.exp(a4*np.log(r)))"
   ]
  },
  {
   "cell_type": "code",
   "execution_count": null,
   "id": "64de2e68-fa28-437a-9418-b2bb1da0e518",
   "metadata": {},
   "outputs": [],
   "source": [
    "# Maruca BA et al. (2023)\n",
    "alpha1 = -2.260\n",
    "alpha2 = -1.925\n",
    "r_a = 2.51\n",
    "R_initial = np.linspace(0.1, r_a, 4691)\n",
    "R_final = np.linspace(r_a, 4.9, 5309)\n",
    "def M_n_i(r_initial):\n",
    "    return 5*r_initial**alpha1\n",
    "def M_n_f(r_final):\n",
    "    return 5*r_a**(alpha1-alpha2)*r_final**alpha2"
   ]
  },
  {
   "cell_type": "code",
   "execution_count": null,
   "id": "02885e75-699a-4afd-9676-4630cf06a921",
   "metadata": {},
   "outputs": [],
   "source": [
    "knn_den = pd.read_csv(\"knn_den.csv\")\n",
    "knn_den.head()"
   ]
  },
  {
   "cell_type": "code",
   "execution_count": null,
   "id": "4dccf83f-21a4-4eda-a8fe-8ecc9234f0ed",
   "metadata": {
    "scrolled": true
   },
   "outputs": [],
   "source": [
    "#Plotting the regressed data for density\n",
    "plt.scatter(combined_data[\"distance\"], combined_data[\"density\"], color=\"orange\", s=0.2)\n",
    "plt.scatter(X_test, knn_den[\"density\"], s=0.2, color=\"purple\")\n",
    "plt.scatter(R_, n1(R_1AU, V_1AU[0]), color=\"g\", s=0.2)\n",
    "plt.scatter(R_, n1(R_, V_critical[0]), color=\"b\", s=0.2)\n",
    "#plt.scatter(R, n1(rc_to_au(R_corona), cs_to_kmps(V_corona[0])), color=\"b\", s=0.2)\n",
    "plt.scatter(R_, K_n(R_), color=\"pink\", s=0.2)\n",
    "plt.scatter(R_initial, M_n_i(R_initial), color=\"c\", s=0.2)\n",
    "plt.scatter(R_final, M_n_f(R_final), color=\"c\", s=0.2)\n",
    "plt.xlabel(\"Solar distance (AU)\")\n",
    "plt.ylabel(\"Number density (cm^-3)\")\n",
    "plt.yscale(\"log\")\n",
    "plt.legend([\"Satellite Data\", \"kNN\", \"Parker model from 1 AU\", \"Parker model from critical radius\", \"Köhnlein W (1996)\", \"Maruca BA et al. (2023)\"], \n",
    "           markerscale=6, handletextpad=0.05, markerfirst=False, framealpha=0.5)\n",
    "plt.show()"
   ]
  },
  {
   "cell_type": "code",
   "execution_count": null,
   "id": "dd62bb98-ceb3-4768-b468-d45fae110d8b",
   "metadata": {},
   "outputs": [],
   "source": [
    "#Plotting the regressed data for density\n",
    "plt.scatter(X_test, y_pred, s=0.2, color=\"purple\")\n",
    "plt.scatter(R, n1(rc_to_au(R_1AU), cs_to_kmps(V_1AU[0])), color=\"g\", s=0.2)\n",
    "plt.scatter(R, n1(rc_to_au(R_critical), cs_to_kmps(V_critical[0])), color=\"b\", s=0.2)\n",
    "plt.scatter(R_, K_n(R_), color=\"pink\", s=0.2)\n",
    "plt.scatter(R_initial, M_n_i(R_initial), color=\"c\", s=0.2)\n",
    "plt.scatter(R_final, M_n_f(R_final), color=\"c\", s=0.2)\n",
    "plt.xlabel(\"Solar distance (AU)\")\n",
    "plt.ylabel(\"Number density (cm^-3)\")\n",
    "plt.yscale(\"log\")\n",
    "plt.legend([\"Satellite Data\", \"kNN\", \"Parker model from 1AU\", \"Parker model from critical radius\", \"Köhnlein W (1996)\", \"Maruca BA et al. (2023)\"], \n",
    "           markerscale=6, handletextpad=0.05, markerfirst=False, framealpha=0.5)\n",
    "plt.show()"
   ]
  },
  {
   "cell_type": "code",
   "execution_count": null,
   "id": "796d4453-2ad1-4f49-b42e-90ea2ca9bbf8",
   "metadata": {},
   "outputs": [],
   "source": [
    "#knn_n = [density_values for density_values_list in density_prediction for density_values in density_values_list]\n",
    "knn_R = [X_values for X_test_list in X_test for X_values in X_test_list]\n",
    "knn_interp_func = interpolate.interp1d(knn_R, density_prediction)\n",
    "knn_interp = knn_interp_func(R)"
   ]
  },
  {
   "cell_type": "code",
   "execution_count": null,
   "id": "ef335a18-a578-4351-834a-33165599dd57",
   "metadata": {},
   "outputs": [],
   "source": [
    "np.corrcoef(knn_interp, M_n_i(R_initial))"
   ]
  },
  {
   "cell_type": "code",
   "execution_count": null,
   "id": "17802b4d-828f-435f-b7e7-dbf548be51cb",
   "metadata": {},
   "outputs": [],
   "source": [
    "np.corrcoef(knn_interp, n1(R_1AU, V_1AU[0]))"
   ]
  },
  {
   "cell_type": "markdown",
   "id": "3e8c479c-0abc-4c19-a8e6-93b7d5b31c6f",
   "metadata": {},
   "source": [
    "# Temperature"
   ]
  },
  {
   "cell_type": "markdown",
   "id": "8ad7f1a0-ba1b-48a6-97b8-0805fac663c5",
   "metadata": {},
   "source": [
    "## Solving T(r)"
   ]
  },
  {
   "cell_type": "code",
   "execution_count": null,
   "id": "3f29395b-040a-4875-a7da-34e5c861aba4",
   "metadata": {},
   "outputs": [],
   "source": [
    "#Constants\n",
    "AU = ac.au.value\n",
    "#Parameters\n",
    "T0 = 2e6"
   ]
  },
  {
   "cell_type": "code",
   "execution_count": null,
   "id": "29d2a420-7628-49cd-b88e-707298c7d387",
   "metadata": {},
   "outputs": [],
   "source": [
    "R = np.linspace(rc/AU, 5, 10000)\n",
    "a = rc/AU"
   ]
  },
  {
   "cell_type": "code",
   "execution_count": null,
   "id": "330d7ad3-0957-43eb-b4e8-e027f788c841",
   "metadata": {},
   "outputs": [],
   "source": [
    "def T(r):\n",
    "    return T0*(a/r)**(2/3)"
   ]
  },
  {
   "cell_type": "code",
   "execution_count": null,
   "id": "05ec65f3-f9e3-4a7f-96af-13d5b0b6c96f",
   "metadata": {},
   "outputs": [],
   "source": [
    "plt.plot(R, T(R))\n",
    "plt.ylabel(\"Temperature (K)\")\n",
    "plt.yscale('log')\n",
    "plt.xlabel(\"Solar Distance (AU)\")"
   ]
  },
  {
   "cell_type": "markdown",
   "id": "4da8ad2e-32ec-4457-b1d8-d73d5770b205",
   "metadata": {},
   "source": [
    "## Temperature kNN"
   ]
  },
  {
   "cell_type": "code",
   "execution_count": null,
   "id": "60336d3c-7278-45ed-8e4c-1107691c5a0d",
   "metadata": {},
   "outputs": [],
   "source": [
    "combined_dist_temp = combined_data.filter(['distance', 'temp']).dropna()\n",
    "X = combined_dist_temp[\"distance\"]\n",
    "y = combined_dist_temp[\"temp\"]"
   ]
  },
  {
   "cell_type": "code",
   "execution_count": null,
   "id": "6d5ee969-b7a5-4d79-ab80-3bde3f5c6547",
   "metadata": {},
   "outputs": [],
   "source": [
    "X_train, X_test, y_train, y_test = train_test_split(X, y, random_state=1, test_size=0.5)"
   ]
  },
  {
   "cell_type": "code",
   "execution_count": null,
   "id": "1abdb7b6-8898-471c-a9fb-abf379981e83",
   "metadata": {},
   "outputs": [],
   "source": [
    "X_train = [[i] for i in X_train]\n",
    "X_test = [[i] for i in X_test]\n",
    "y_test = [[i] for i in y_test]\n",
    "y_train = [[i] for i in y_train]"
   ]
  },
  {
   "cell_type": "code",
   "execution_count": null,
   "id": "a44f3c66-41ee-4496-87b2-6aa753041df5",
   "metadata": {},
   "outputs": [],
   "source": [
    "#Defining a function to apply k-nearest neighbours to the training data.\n",
    "start = time.perf_counter()\n",
    "knn = neighbors.KNeighborsRegressor(5000, weights=\"distance\")\n",
    "knn.fit(np.array(X_train).astype(np.float32), np.array(y_train).astype(np.float32))\n",
    "split_X_train = np.array_split(X_test, 22)\n",
    "temperature_pred = []\n",
    "for distance in split_X_train:\n",
    "    distance = [r for r_list in distance.T for r in r_list]\n",
    "    distance = [[i] for i in distance]\n",
    "    temperature_pred.append(knn.predict(distance).astype(np.float32))\n",
    "temperature_prediction = np.concatenate(temperature_pred)\n",
    "#y_pred = knn.predict(np.array(X_test).astype(np.float32))\n",
    "print(time.perf_counter()-start)"
   ]
  },
  {
   "cell_type": "code",
   "execution_count": null,
   "id": "2042ba72-6415-4e0b-be4a-d91e4a82fa2c",
   "metadata": {},
   "outputs": [],
   "source": [
    "temperature_prediction = [t for t_list in temperature_prediction.T for t in t_list]"
   ]
  },
  {
   "cell_type": "code",
   "execution_count": null,
   "id": "c481f813-c547-4393-840e-6cfd34a3065f",
   "metadata": {},
   "outputs": [],
   "source": [
    "kNN_temp = pd.DataFrame({\"distance\":X_test, \"temperature\":temperature_prediction})\n",
    "kNN_temp = kNN_temp.to_csv(\"kNN_temp.csv\")"
   ]
  },
  {
   "cell_type": "markdown",
   "id": "6bd55cc3-8b99-432a-aa9b-5acd17a22129",
   "metadata": {},
   "source": [
    "## Models"
   ]
  },
  {
   "cell_type": "code",
   "execution_count": null,
   "id": "941067b3-988a-4995-bda4-5c95967b9cf2",
   "metadata": {},
   "outputs": [],
   "source": [
    "# Köhnlein W (1996)\n",
    "a1 = 4.858\n",
    "a2 = -0.668\n",
    "a3 = -4.90E-42\n",
    "a4 = -40.91\n",
    "R_ = np.linspace(0.1, 4.9, 10000)\n",
    "def K_T(r):\n",
    "    return 10**(a1+a2*np.log(r)+a3*np.exp(a4*np.log(r)))"
   ]
  },
  {
   "cell_type": "code",
   "execution_count": null,
   "id": "8d646bac-fd37-4d21-9664-da5b0389c2f3",
   "metadata": {},
   "outputs": [],
   "source": [
    "# Maruca BA et al. (2023)\n",
    "alpha1 = -1.024\n",
    "alpha2 = -0.273\n",
    "r_a = 4.41\n",
    "R_initial = np.linspace(0.1, r_a, 8742)\n",
    "R_final = np.linspace(4.41, 4.9, 1258)\n",
    "def M_T_i(r_initial):\n",
    "    return T0*r_initial**alpha1\n",
    "def M_T_f(r_final):\n",
    "    return T0*r_a**(alpha1-alpha2)*r_final**alpha2"
   ]
  },
  {
   "cell_type": "code",
   "execution_count": null,
   "id": "bd48d211-1d1e-4974-b59e-d720bca05510",
   "metadata": {},
   "outputs": [],
   "source": [
    "kNN_temp = pd.read_csv(\"kNN_temp.csv\")"
   ]
  },
  {
   "cell_type": "code",
   "execution_count": null,
   "id": "b718978e-6424-4f20-98eb-3d2f5013df6f",
   "metadata": {
    "scrolled": true
   },
   "outputs": [],
   "source": [
    "#Plotting the regressed data for density\n",
    "plt.scatter(combined_data[\"distance\"], combined_data[\"temp\"], color=\"orange\", s = 0.2)\n",
    "plt.scatter(kNN_temp[\"distance\"], kNN_temp[\"temperature\"], color=\"purple\", s = 0.2)\n",
    "plt.scatter(R, T(R), color=\"g\", s=0.2)\n",
    "plt.scatter(R_, K_T(R_), color=\"pink\", s=0.2)\n",
    "plt.scatter(R_initial, M_T_i(R_initial), color=\"c\", s=0.2)\n",
    "plt.scatter(R_final, M_T_f(R_final), color=\"c\", s=0.2)\n",
    "plt.xlabel(\"Solar distance (AU)\")\n",
    "plt.ylabel(\"Temperature (K)\")\n",
    "plt.legend([\"Satellite Data\", \"kNN\", \"Parker model\", \"Köhnlein W (1996)\", \"Maruca BA et al. (2023)\"], \n",
    "           markerscale=6, handletextpad=0.05, markerfirst=False, framealpha=0.5)\n",
    "plt.yscale('log')\n",
    "plt.show()"
   ]
  },
  {
   "cell_type": "code",
   "execution_count": null,
   "id": "6394bfe0-444e-4227-ab2e-4fff7d5bee7f",
   "metadata": {},
   "outputs": [],
   "source": [
    "#Plotting the regressed data for density\n",
    "plt.scatter(X_test, temperature_prediction, color=\"purple\", s = 0.2)\n",
    "plt.scatter(R, T(R), color=\"g\", s=0.2)\n",
    "plt.scatter(R_, K_T(R_), color=\"pink\", s=0.2)\n",
    "plt.scatter(R_initial, M_T_i(R_initial), color=\"c\", s=0.2)\n",
    "plt.scatter(R_final, M_T_f(R_final), color=\"c\", s=0.2)\n",
    "plt.xlabel(\"Solar distance (AU)\")\n",
    "plt.ylabel(\"Temperature (K)\")\n",
    "plt.legend([\"Solar Data\", \"kNN\", \"Parker model\", \"Köhnlein W (1996)\", \"Maruca BA et al. (2023)\"], \n",
    "           markerscale=6, handletextpad=0.05, markerfirst=False, framealpha=0.5)\n",
    "plt.yscale('log')\n",
    "plt.show()"
   ]
  },
  {
   "cell_type": "code",
   "execution_count": null,
   "id": "74ebf07a-4d20-4455-aef6-ecf82b55a3b4",
   "metadata": {},
   "outputs": [],
   "source": [
    "knn_T = [temperature_values for temperature_values_list in temperature_prediction for temperature_values in temperature_values_list]\n",
    "knn_R = [X_values for X_test_list in X_test for X_values in X_test_list]\n",
    "knn_interp_func = interpolate.interp1d(knn_R, knn_T)\n",
    "knn_interp = knn_interp_func(R_initial)"
   ]
  },
  {
   "cell_type": "code",
   "execution_count": null,
   "id": "2067a062-a92c-4c9d-b2f3-142cc7b855ba",
   "metadata": {},
   "outputs": [],
   "source": [
    "np.corrcoef(knn_interp, M_T_i(R_initial))"
   ]
  },
  {
   "cell_type": "code",
   "execution_count": null,
   "id": "bffa01af-1301-4e06-a662-b31814988433",
   "metadata": {},
   "outputs": [],
   "source": [
    "np.corrcoef(knn_interp, T(R))"
   ]
  },
  {
   "cell_type": "markdown",
   "id": "3c82bf72-25e5-4ac9-b231-cf043dd143e9",
   "metadata": {},
   "source": [
    "# Magnetic Field"
   ]
  },
  {
   "cell_type": "markdown",
   "id": "8c819308-3f2d-491d-9155-6692c1015573",
   "metadata": {},
   "source": [
    "## Solving B(r)"
   ]
  },
  {
   "cell_type": "code",
   "execution_count": null,
   "id": "1241bd24-6aba-4acb-9881-2caaeaea683f",
   "metadata": {},
   "outputs": [],
   "source": [
    "b = 5e9/AU\n",
    "omega = 1/(27*24*60*60)\n",
    "B_theta = np.zeros(10000)\n",
    "B_0 = 5\n",
    "R = np.linspace(0.1, 4.9, 10000)\n",
    "theta = np.linspace(0, 180, 10000)"
   ]
  },
  {
   "cell_type": "code",
   "execution_count": null,
   "id": "30dff1bd-2421-48a4-a0dc-dcc0a6080986",
   "metadata": {},
   "outputs": [],
   "source": [
    "def B_r(r, theta):\n",
    "    B_theta_phi = B_0*np.cos(theta)\n",
    "    return B_theta_phi * (b/r)**2\n",
    "def B_phi(r, theta):\n",
    "    B_theta_phi = B_0*np.cos(theta)\n",
    "    return B_theta_phi * (omega/cs_to_kmps(V_1AU[0])) * (r-b) * (b/r)**2 * np.sin(theta)"
   ]
  },
  {
   "cell_type": "code",
   "execution_count": null,
   "id": "8b38debf-4796-4c80-a910-afb64c7968a1",
   "metadata": {},
   "outputs": [],
   "source": [
    "def B_mag(r, theta):\n",
    "    return (B_r(r, theta)+B_theta+B_phi(r, theta))/3"
   ]
  },
  {
   "cell_type": "markdown",
   "id": "756b0778-184c-4f96-bc30-d2234de90b37",
   "metadata": {},
   "source": [
    "## Models"
   ]
  },
  {
   "cell_type": "code",
   "execution_count": null,
   "id": "c3625c90-c4b3-4822-af07-82919e371496",
   "metadata": {},
   "outputs": [],
   "source": [
    "# Köhnlein W (1996)\n",
    "a1 = 0.500\n",
    "a2 = -1.100\n",
    "a3 = 0.2815\n",
    "a4 = 0.875\n",
    "R = np.linspace(0.1, 4.9, 10000)\n",
    "def K_B(r):\n",
    "    return 10**(a1+a2*np.log(r)+a3*np.exp(a4*np.log(r)))"
   ]
  },
  {
   "cell_type": "code",
   "execution_count": null,
   "id": "875ad673-6211-421e-b564-215fce85e310",
   "metadata": {},
   "outputs": [],
   "source": [
    "# Maruca BA et al. (2023)\n",
    "alpha1 = -1.739 \n",
    "alpha2 = -1.468\n",
    "alpha3 = -0.904\n",
    "r_a = 0.52\n",
    "r_b = 4.45\n",
    "R_initial = np.linspace(0.1, r_a, 875)\n",
    "R_middle = np.linspace(r_a, r_b, 8188)\n",
    "R_final = np.linspace(r_b, 4.9, 937)\n",
    "def M_B_i(r_initial):\n",
    "    return B_0*r_initial**alpha1\n",
    "def M_B_m(r_middle):\n",
    "    return B_0*r_a**(alpha1-alpha2)*r_middle**alpha2\n",
    "def M_B_f(r_final):\n",
    "    return B_0*r_a**(alpha1-alpha2)*r_b**(alpha2-alpha3)*r_final**alpha3"
   ]
  },
  {
   "cell_type": "markdown",
   "id": "cfc8c7c1-826e-4e21-b72f-9e938da3976b",
   "metadata": {},
   "source": [
    "## Magnetic Field kNN"
   ]
  },
  {
   "cell_type": "code",
   "execution_count": null,
   "id": "50291e0c-2c5c-4325-a706-7aa556fe0559",
   "metadata": {},
   "outputs": [],
   "source": [
    "combined_data =combined_data.assign(mag_field=lambda x: (x[\"Bx\"]+x[\"By\"]+x[\"Bz\"])/3)\n",
    "combined_dist_mag = combined_data.filter(['distance', 'mag_field']).dropna()\n",
    "X = combined_dist_mag[\"distance\"]\n",
    "y = combined_dist_mag[\"mag_field\"]"
   ]
  },
  {
   "cell_type": "code",
   "execution_count": null,
   "id": "7c43a2c6-c22e-4cb9-b0ef-f409248408a8",
   "metadata": {},
   "outputs": [],
   "source": [
    "X_train, X_test, y_train, y_test = train_test_split(X, y, random_state=1, test_size=0.5)"
   ]
  },
  {
   "cell_type": "code",
   "execution_count": null,
   "id": "96e70939-8bf4-4a65-83e8-d752fa366927",
   "metadata": {
    "scrolled": true
   },
   "outputs": [],
   "source": [
    "X_train = [[i] for i in X_train]\n",
    "X_test = [[i] for i in X_test]\n",
    "y_test = [[i] for i in y_test]\n",
    "y_train = [[i] for i in y_train]"
   ]
  },
  {
   "cell_type": "code",
   "execution_count": null,
   "id": "282731ed-5511-44a0-b2c6-07ead2146494",
   "metadata": {},
   "outputs": [],
   "source": [
    "X_test = X_test[:-4]"
   ]
  },
  {
   "cell_type": "code",
   "execution_count": null,
   "id": "4111f1fa-f0ee-47cc-8672-f94b37cfc591",
   "metadata": {},
   "outputs": [],
   "source": [
    "#Defining a function to apply k-nearest neighbours to the training data.#\n",
    "start = time.perf_counter()\n",
    "knn = neighbors.KNeighborsRegressor(5000, weights=\"distance\")\n",
    "knn.fit(np.array(X_train).astype(np.float32), np.array(y_train).astype(np.float32))\n",
    "split_X_train = np.array_split(X_test, 490)\n",
    "mag_field_pred = []\n",
    "for distance in split_X_train:\n",
    "    distance = [r for r_list in distance.T for r in r_list]\n",
    "    distance = [[i] for i in distance]\n",
    "    mag_field_pred.append(knn.predict(distance).astype(np.float32))\n",
    "mag_field_prediction = np.concatenate(mag_field_pred)\n",
    "#y_pred = knn.predict(np.array(X_test).astype(np.float32))\n",
    "print(time.perf_counter()-start)"
   ]
  },
  {
   "cell_type": "code",
   "execution_count": null,
   "id": "b724c1f9-e85a-435d-aff7-b2752431d8c6",
   "metadata": {},
   "outputs": [],
   "source": [
    "mag_field_prediction = [B for B_list in mag_field_prediction.T for B in B_list]"
   ]
  },
  {
   "cell_type": "code",
   "execution_count": null,
   "id": "adbf7313-acf8-4cdf-8cc5-13c0540c2727",
   "metadata": {},
   "outputs": [],
   "source": [
    "kNN_mag = pd.DataFrame({\"distance\":X_test, \"mag_field\":mag_field_prediction})\n",
    "kNN_mag = kNN_mag.to_csv(\"kNN_mag.csv\")"
   ]
  },
  {
   "cell_type": "code",
   "execution_count": null,
   "id": "309d45d2-e783-48cd-adc7-02425608c71d",
   "metadata": {},
   "outputs": [],
   "source": [
    "kNN_mag = pd.read_csv(\"kNN_mag.csv\")"
   ]
  },
  {
   "cell_type": "code",
   "execution_count": null,
   "id": "259e1b6d-18cc-4f71-abc9-65a269ec08a9",
   "metadata": {},
   "outputs": [],
   "source": [
    "kNN_mag_field = kNN_mag[\"mag_field\"].to_numpy()[:-4]\n",
    "kNN_mag_distance = kNN_mag[\"distance\"].to_numpy()[:-4]"
   ]
  },
  {
   "cell_type": "code",
   "execution_count": null,
   "id": "94b00961-044c-4979-9d66-78b82ba1e2c4",
   "metadata": {
    "scrolled": true
   },
   "outputs": [],
   "source": [
    "plt.scatter(kNN_mag[\"distance\"], kNN_mag[\"mag_field\"], color='purple', s=0.2)\n",
    "plt.scatter(R, K_B(R), color='pink', s=0.2)\n",
    "plt.scatter(R_initial, M_B_i(R_initial), color='cyan', s=0.2)\n",
    "plt.scatter(R_middle, M_B_m(R_middle), color='cyan', s=0.2)\n",
    "plt.scatter(R_final, M_B_f(R_final), color='cyan', s=0.2)\n",
    "plt.scatter(R, B_mag(R, theta), color='green', s=0.2)\n",
    "plt.yscale('log')\n",
    "plt.xlabel(\"Solar Distance (AU)\")\n",
    "plt.ylabel(\"Magnetic Field (nT)\")\n",
    "plt.show()"
   ]
  },
  {
   "cell_type": "code",
   "execution_count": null,
   "id": "d603727b-d479-4296-9fdd-6d7fa520f5a5",
   "metadata": {},
   "outputs": [],
   "source": [
    "kNN_mag"
   ]
  },
  {
   "cell_type": "code",
   "execution_count": null,
   "id": "379734a9-28af-4c79-9502-68bc775253c9",
   "metadata": {},
   "outputs": [],
   "source": [
    "p_interp_func = interpolate.interp1d(kNN_mag[\"distance\"], kNN_mag[\"mag_field\"])\n",
    "p_interp = p_interp_func(R)"
   ]
  },
  {
   "cell_type": "code",
   "execution_count": null,
   "id": "261212a2-6d39-4278-ab0b-95549204c786",
   "metadata": {},
   "outputs": [],
   "source": [
    "knn_R"
   ]
  },
  {
   "cell_type": "code",
   "execution_count": null,
   "id": "173726ca-6fca-4518-a97e-c62755015fd5",
   "metadata": {
    "scrolled": true
   },
   "outputs": [],
   "source": [
    "np.corrcoef(Com, M_B(R))"
   ]
  },
  {
   "cell_type": "code",
   "execution_count": null,
   "id": "fafca742-e596-465a-b316-1722d571799d",
   "metadata": {},
   "outputs": [],
   "source": [
    "np.corrcoef(kNN_mag[\"mag_field\"], B_mag(R, theta))"
   ]
  },
  {
   "cell_type": "code",
   "execution_count": null,
   "id": "cb0cbbab-9ef5-4bf2-b790-00c14c366a02",
   "metadata": {},
   "outputs": [],
   "source": [
    "np.corrcoef(kNN_mag[\"mag_field\"], B_mag(R, theta))"
   ]
  },
  {
   "cell_type": "code",
   "execution_count": null,
   "id": "9e52062c-7b99-40ca-b2cc-a3ad6a6e172f",
   "metadata": {},
   "outputs": [],
   "source": [
    "fig, axs = plt.subplots(ncols=1, nrows=4, figsize=(5, 6), sharex=True,\n",
    "                        layout=\"constrained\")\n",
    "axs[0].scatter(rc_to_au(R_1AU), cs_to_kmps(V_1AU[0]), color=\"g\", s=0.2)\n",
    "axs[0].scatter(rc_to_au(R_critical), cs_to_kmps(V_critical[0]), color=\"olive\", s=0.2)\n",
    "axs[0].set_ylabel(\"v (km/s)\")\n",
    "axs[1].scatter(R_, n1(R_1AU, V_1AU[0]), color=\"g\", s=0.2)\n",
    "axs[1].scatter(R_, n1(R_, V_critical[0]), color=\"b\", s=0.2)\n",
    "axs[1].set_yscale('log')\n",
    "axs[1].set_ylabel(\"n (cm^-3)\")\n",
    "axs[2].scatter(R, T(R), color=\"g\", s=0.2)\n",
    "axs[2].set_yscale('log')\n",
    "axs[2].set_ylabel(\"T (K)\")\n",
    "axs[3].scatter(R, B_mag(R, theta), color='green', s=0.2)\n",
    "axs[3].set_ylabel(\"B (nT)\")\n",
    "plt.xlabel(\"Solar Distance (AU)\")\n",
    "plt.show()"
   ]
  },
  {
   "cell_type": "code",
   "execution_count": null,
   "id": "1fc9bc04-5377-4861-a20b-c86d1c851ebe",
   "metadata": {},
   "outputs": [],
   "source": []
  }
 ],
 "metadata": {
  "kernelspec": {
   "display_name": "Python 3 (ipykernel)",
   "language": "python",
   "name": "python3"
  },
  "language_info": {
   "codemirror_mode": {
    "name": "ipython",
    "version": 3
   },
   "file_extension": ".py",
   "mimetype": "text/x-python",
   "name": "python",
   "nbconvert_exporter": "python",
   "pygments_lexer": "ipython3",
   "version": "3.11.9"
  }
 },
 "nbformat": 4,
 "nbformat_minor": 5
}
